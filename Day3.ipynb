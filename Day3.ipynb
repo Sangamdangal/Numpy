{
 "cells": [
  {
   "cell_type": "code",
   "execution_count": 15,
   "id": "e4a681b6-7165-4e35-9fcb-a81b94c7aeba",
   "metadata": {},
   "outputs": [
    {
     "data": {
      "text/plain": [
       "array([51, 92, 14, 71, 60, 20, 82, 86, 74, 74])"
      ]
     },
     "execution_count": 15,
     "metadata": {},
     "output_type": "execute_result"
    }
   ],
   "source": [
    "#FANCY INDEXING\n",
    "import numpy as np\n",
    "\n",
    "rand = np.random.RandomState(42)\n",
    "x = rand.randint(100, size = 10)\n",
    "x"
   ]
  },
  {
   "cell_type": "code",
   "execution_count": 2,
   "id": "908a5502-08e2-4993-b764-8dca5284f103",
   "metadata": {},
   "outputs": [
    {
     "data": {
      "text/plain": [
       "[14, 60, 74]"
      ]
     },
     "execution_count": 2,
     "metadata": {},
     "output_type": "execute_result"
    }
   ],
   "source": [
    "#accessing 3 different elements\n",
    "[x[2], x[4], x[8]]"
   ]
  },
  {
   "cell_type": "code",
   "execution_count": 3,
   "id": "1d7cfe3f-ad47-42e1-8499-25b231c7cc43",
   "metadata": {},
   "outputs": [
    {
     "data": {
      "text/plain": [
       "array([92, 71, 51])"
      ]
     },
     "execution_count": 3,
     "metadata": {},
     "output_type": "execute_result"
    }
   ],
   "source": [
    "indices = [1,3,0]\n",
    "x[indices]"
   ]
  },
  {
   "cell_type": "code",
   "execution_count": 4,
   "id": "9be491ae-110d-4481-9a4c-d50c9f7db744",
   "metadata": {},
   "outputs": [
    {
     "data": {
      "text/plain": [
       "array([[2, 6],\n",
       "       [8, 3]])"
      ]
     },
     "execution_count": 4,
     "metadata": {},
     "output_type": "execute_result"
    }
   ],
   "source": [
    "indices = np.array([[2,6],\n",
    "                    [8,3]])\n",
    "indices"
   ]
  },
  {
   "cell_type": "code",
   "execution_count": 5,
   "id": "941fc898-121a-4437-8d70-330ef2346efb",
   "metadata": {},
   "outputs": [
    {
     "data": {
      "text/plain": [
       "array([[14, 82],\n",
       "       [74, 71]])"
      ]
     },
     "execution_count": 5,
     "metadata": {},
     "output_type": "execute_result"
    }
   ],
   "source": [
    "x[indices]"
   ]
  },
  {
   "cell_type": "markdown",
   "id": "317e664a-4741-4c6b-acc0-b76015ac3764",
   "metadata": {},
   "source": [
    "Fancing indexing in multiple dimension"
   ]
  },
  {
   "cell_type": "code",
   "execution_count": 6,
   "id": "8d87ad13-7591-4332-92dd-2519a96ec062",
   "metadata": {},
   "outputs": [
    {
     "data": {
      "text/plain": [
       "array([[ 0,  1,  2,  3],\n",
       "       [ 4,  5,  6,  7],\n",
       "       [ 8,  9, 10, 11]])"
      ]
     },
     "execution_count": 6,
     "metadata": {},
     "output_type": "execute_result"
    }
   ],
   "source": [
    "X = np.arange(12).reshape((3,4))\n",
    "X"
   ]
  },
  {
   "cell_type": "code",
   "execution_count": 7,
   "id": "c572cb61-497a-406d-8ba8-617b144bdc9f",
   "metadata": {},
   "outputs": [
    {
     "data": {
      "text/plain": [
       "array([ 2,  5, 11])"
      ]
     },
     "execution_count": 7,
     "metadata": {},
     "output_type": "execute_result"
    }
   ],
   "source": [
    "row = np.array([0,1,2])\n",
    "col = np.array([2,1,3])\n",
    "X[row,col]   # Result = [X[0,2], X[1,1], X[2,3]]"
   ]
  },
  {
   "cell_type": "markdown",
   "id": "1fe7ede2-8382-4492-8387-f0e538075457",
   "metadata": {},
   "source": [
    "The pairing of indices in fancy indexing follows all the broadcasting rules"
   ]
  },
  {
   "cell_type": "code",
   "execution_count": 8,
   "id": "3313af97-c864-4c53-a9f8-c49f4f6ada78",
   "metadata": {},
   "outputs": [
    {
     "data": {
      "text/plain": [
       "array([[ 0,  1,  2,  3],\n",
       "       [ 4,  5,  6,  7],\n",
       "       [ 8,  9, 10, 11]])"
      ]
     },
     "execution_count": 8,
     "metadata": {},
     "output_type": "execute_result"
    }
   ],
   "source": [
    "X"
   ]
  },
  {
   "cell_type": "code",
   "execution_count": 9,
   "id": "bc6a0f93-41a4-4952-86a4-d12e18b891d6",
   "metadata": {},
   "outputs": [
    {
     "data": {
      "text/plain": [
       "array([[ 2,  1,  3],\n",
       "       [ 6,  5,  7],\n",
       "       [10,  9, 11]])"
      ]
     },
     "execution_count": 9,
     "metadata": {},
     "output_type": "execute_result"
    }
   ],
   "source": [
    "X[row[:, np.newaxis], col] #broadcasting hhere"
   ]
  },
  {
   "cell_type": "markdown",
   "id": "ba61c661-14ce-4999-87bf-d863f27a7551",
   "metadata": {},
   "source": [
    "COMBINED INDEXNG\n",
    "Fancy indexing can be combined with other indexing schemes that we are familiar with."
   ]
  },
  {
   "cell_type": "code",
   "execution_count": 10,
   "id": "15d8bbad-5591-4739-bf6e-07e6b5c37bc4",
   "metadata": {},
   "outputs": [
    {
     "data": {
      "text/plain": [
       "array([[ 0,  1,  2,  3],\n",
       "       [ 4,  5,  6,  7],\n",
       "       [ 8,  9, 10, 11]])"
      ]
     },
     "execution_count": 10,
     "metadata": {},
     "output_type": "execute_result"
    }
   ],
   "source": [
    "X"
   ]
  },
  {
   "cell_type": "code",
   "execution_count": 11,
   "id": "8508cd7c-726d-4187-80a2-3c75e4f20339",
   "metadata": {},
   "outputs": [
    {
     "data": {
      "text/plain": [
       "array([10,  8,  9])"
      ]
     },
     "execution_count": 11,
     "metadata": {},
     "output_type": "execute_result"
    }
   ],
   "source": [
    "#fancy and normal indexing combined\n",
    "\n",
    "X[2, [2, 0, 1]]   # X[row_index (normal indexing), col_indices (fancy indexing)]"
   ]
  },
  {
   "cell_type": "code",
   "execution_count": 12,
   "id": "9a3bc2a8-d050-4b39-aed3-92fd1cc8e05a",
   "metadata": {},
   "outputs": [
    {
     "data": {
      "text/plain": [
       "array([[ 7,  5,  6],\n",
       "       [11,  9, 10]])"
      ]
     },
     "execution_count": 12,
     "metadata": {},
     "output_type": "execute_result"
    }
   ],
   "source": [
    " #fancy indexing with slicing combined\n",
    "\n",
    "X[1:, [3, 1, 2]]      #X[rows_1_2, cols_3_1_2]"
   ]
  },
  {
   "cell_type": "code",
   "execution_count": 13,
   "id": "539f6f52-ec24-430c-a9d2-86bee8120c96",
   "metadata": {},
   "outputs": [
    {
     "data": {
      "text/plain": [
       "array([0, 1, 2])"
      ]
     },
     "execution_count": 13,
     "metadata": {},
     "output_type": "execute_result"
    }
   ],
   "source": [
    "row"
   ]
  },
  {
   "cell_type": "code",
   "execution_count": 14,
   "id": "e266a0b6-4529-44e0-aa95-724cc776d585",
   "metadata": {},
   "outputs": [
    {
     "data": {
      "text/plain": [
       "array([[ 0,  2],\n",
       "       [ 4,  6],\n",
       "       [ 8, 10]])"
      ]
     },
     "execution_count": 14,
     "metadata": {},
     "output_type": "execute_result"
    }
   ],
   "source": [
    "#fancy indexing with masking combined\n",
    "\n",
    "mask = np.array([1, 0, 1, 0], dtype = bool)\n",
    "X[row[:, np.newaxis], mask]     #skip the second and fourth col (masked)"
   ]
  },
  {
   "cell_type": "markdown",
   "id": "e3a404df-1b27-4ac0-9526-21d92b117df0",
   "metadata": {},
   "source": [
    "EXAMPLE : SELECTING RANDOM POINTS   \n",
    "A common use of fancy indexing is the selection of subsets of rows from a matrix.\n",
    "Suppose, we have a NxD matrix representing N points in D dimensions.\r\n",
    "Let’s create a matrix in which the elements are drawn from a 2-dimensional normal distribution."
   ]
  },
  {
   "cell_type": "code",
   "execution_count": 22,
   "id": "cac6aa63-a9e9-46ca-a441-901cb5b0c0e2",
   "metadata": {},
   "outputs": [
    {
     "name": "stderr",
     "output_type": "stream",
     "text": [
      "C:\\Users\\hp\\AppData\\Local\\Temp\\ipykernel_14644\\3950364382.py:8: RuntimeWarning: covariance is not symmetric positive-semidefinite.\n",
      "  X = rand.multivariate_normal(mean, cov, 100)\n"
     ]
    },
    {
     "data": {
      "text/plain": [
       "(100, 2)"
      ]
     },
     "execution_count": 22,
     "metadata": {},
     "output_type": "execute_result"
    }
   ],
   "source": [
    "import numpy as np\n",
    "rand = np.random.RandomState(42)\n",
    "\n",
    "mean = [0, 0]\n",
    "#covariance matrix\n",
    "cov = [[1, -3],\n",
    "       [-3, 5]]\n",
    "X = rand.multivariate_normal(mean, cov, 100)\n",
    "X.shape"
   ]
  },
  {
   "cell_type": "code",
   "execution_count": 23,
   "id": "5e8ff2f3-3506-42f0-b2e6-5614c7bc7f78",
   "metadata": {},
   "outputs": [
    {
     "data": {
      "text/plain": [
       "array([[-0.50752012,  1.17633072],\n",
       "       [-1.83041639,  0.90843621],\n",
       "       [ 0.44460594, -0.44462323],\n",
       "       [-2.44169868,  3.29672893]])"
      ]
     },
     "execution_count": 23,
     "metadata": {},
     "output_type": "execute_result"
    }
   ],
   "source": [
    "X[:4]"
   ]
  },
  {
   "cell_type": "code",
   "execution_count": 24,
   "id": "4804cb42-b813-4d23-b424-996a73d9dddf",
   "metadata": {},
   "outputs": [
    {
     "data": {
      "text/plain": [
       "array([ 0.11680625, -0.27436292])"
      ]
     },
     "execution_count": 24,
     "metadata": {},
     "output_type": "execute_result"
    }
   ],
   "source": [
    "X.mean(axis = 0)"
   ]
  },
  {
   "cell_type": "code",
   "execution_count": 25,
   "id": "d2dfcf9d-f020-4989-9e00-59fcf4857372",
   "metadata": {},
   "outputs": [
    {
     "data": {
      "image/png": "[encoded data removed]",
      "text/plain": [
       "<Figure size 640x480 with 1 Axes>"
      ]
     },
     "metadata": {},
     "output_type": "display_data"
    }
   ],
   "source": [
    "%matplotlib inline\n",
    "import matplotlib.pyplot as plt\n",
    "import seaborn; seaborn.set()   #for plot styling\n",
    "\n",
    "plt.scatter(X[:, 0], X[:, 1]);"
   ]
  },
  {
   "cell_type": "code",
   "execution_count": 29,
   "id": "33693999-c8b8-4d9d-90c6-f6bfc2d01c53",
   "metadata": {},
   "outputs": [
    {
     "data": {
      "text/plain": [
       "'Let’s use fancy indexing to select 20 random points, by choosing 20 random indices with no repeats,\\nand use these indices to select a portion of the original array.'"
      ]
     },
     "execution_count": 29,
     "metadata": {},
     "output_type": "execute_result"
    }
   ],
   "source": [
    "\"\"\"Let’s use fancy indexing to select 20 random points, by choosing 20 random indices with no repeats,\n",
    "and use these indices to select a portion of the original array.\"\"\""
   ]
  },
  {
   "cell_type": "code",
   "execution_count": 30,
   "id": "208e5965-4abd-4eaf-ad61-1c2a58ee9ab4",
   "metadata": {},
   "outputs": [
    {
     "data": {
      "text/plain": [
       "array([59, 75, 25, 24, 58,  8, 79, 47, 64, 29, 12, 95, 34, 20, 81, 69, 50,\n",
       "       41, 57, 53])"
      ]
     },
     "execution_count": 30,
     "metadata": {},
     "output_type": "execute_result"
    }
   ],
   "source": [
    "indices = np.random.choice(X.shape[0], 20, replace = False)\n",
    "indices"
   ]
  },
  {
   "cell_type": "code",
   "execution_count": 31,
   "id": "962fc28d-5ae0-49dd-8f7f-fb428c48437a",
   "metadata": {},
   "outputs": [
    {
     "data": {
      "text/plain": [
       "(20, 2)"
      ]
     },
     "execution_count": 31,
     "metadata": {},
     "output_type": "execute_result"
    }
   ],
   "source": [
    "selection = X[indices]\n",
    "selection.shape"
   ]
  },
  {
   "cell_type": "code",
   "execution_count": 34,
   "id": "caa45814-08f4-417e-9b8e-8c77bdcadade",
   "metadata": {},
   "outputs": [
    {
     "data": {
      "image/png": "[encoded data removed]",
      "text/plain": [
       "<Figure size 640x480 with 1 Axes>"
      ]
     },
     "metadata": {},
     "output_type": "display_data"
    }
   ],
   "source": [
    "plt.scatter(X[:, 0], X[:, 1], alpha = 0.3)\n",
    "plt.scatter(selection[:, 0], selection[:, 1], s = 200);\n",
    "\n",
    "#This technique can be used to quickly partition datasets, such as splitting data into train/test validation datasets."
   ]
  },
  {
   "cell_type": "code",
   "execution_count": 35,
   "id": "7a20bfb5-1b79-409a-85e4-18fcfcfb2553",
   "metadata": {},
   "outputs": [
    {
     "name": "stdout",
     "output_type": "stream",
     "text": [
      "[0 1 2 3 4 5 6 7 8 9]\n",
      "[ 0 99 99  3 99  5  6  7 99  9]\n"
     ]
    }
   ],
   "source": [
    "#Modifying values with fancy indexing\n",
    "\n",
    "x = np.arange(10)\n",
    "i = np.array([2, 1, 8, 4])\n",
    "print(x)\n",
    "x[i] = 99\n",
    "print(x)"
   ]
  },
  {
   "cell_type": "code",
   "execution_count": 36,
   "id": "0d77cbe6-14a9-467a-9575-6e5d19969687",
   "metadata": {},
   "outputs": [
    {
     "name": "stdout",
     "output_type": "stream",
     "text": [
      "[ 0 99 99  3 99  5  6  7 99  9]\n",
      "[ 0 89 89  3 89  5  6  7 89  9]\n"
     ]
    }
   ],
   "source": [
    "# any assignment operator works\n",
    "print(x)\n",
    "x[i] -=10\n",
    "print(x)"
   ]
  },
  {
   "cell_type": "code",
   "execution_count": 38,
   "id": "2bbd8697-669b-4d07-af9c-3686cbf68253",
   "metadata": {},
   "outputs": [
    {
     "data": {
      "text/plain": [
       "array([-3,  0,  3,  4,  8])"
      ]
     },
     "execution_count": 38,
     "metadata": {},
     "output_type": "execute_result"
    }
   ],
   "source": [
    "#Sorting Arrays\n",
    "x = np.array([3, 4, -3, 0, 8])\n",
    "np.sort(x) #returns a new sorted array"
   ]
  },
  {
   "cell_type": "code",
   "execution_count": 39,
   "id": "e7764137-efd1-4e6e-a1db-c7ac16765dbe",
   "metadata": {},
   "outputs": [
    {
     "data": {
      "text/plain": [
       "array([ 3,  4, -3,  0,  8])"
      ]
     },
     "execution_count": 39,
     "metadata": {},
     "output_type": "execute_result"
    }
   ],
   "source": [
    "x     #original array unchanged"
   ]
  },
  {
   "cell_type": "code",
   "execution_count": 40,
   "id": "ae2e6ffe-6c6f-4c9e-85a6-3cda092582b0",
   "metadata": {},
   "outputs": [
    {
     "data": {
      "text/plain": [
       "array([-3,  0,  3,  4,  8])"
      ]
     },
     "execution_count": 40,
     "metadata": {},
     "output_type": "execute_result"
    }
   ],
   "source": [
    "x.sort()\n",
    "x       #original array sorted in-place"
   ]
  },
  {
   "cell_type": "code",
   "execution_count": 42,
   "id": "6b26b33a-ab31-4ec1-bd5f-c674db7fe5f7",
   "metadata": {},
   "outputs": [
    {
     "data": {
      "text/plain": [
       "array([2, 4, 0, 1, 3], dtype=int64)"
      ]
     },
     "execution_count": 42,
     "metadata": {},
     "output_type": "execute_result"
    }
   ],
   "source": [
    "x = np.array([2, 3, -2, 7, 0])\n",
    "np.argsort(x)          #returns the indices of sorted elements"
   ]
  },
  {
   "cell_type": "code",
   "execution_count": 43,
   "id": "90056169-aee6-4b22-a48b-2cad874a4dfd",
   "metadata": {},
   "outputs": [
    {
     "data": {
      "text/plain": [
       "array([-2,  0,  2,  3,  7])"
      ]
     },
     "execution_count": 43,
     "metadata": {},
     "output_type": "execute_result"
    }
   ],
   "source": [
    "#In order to get the elements in sorted order from the indices above, we can use fancy indexing.\n",
    "\n",
    "x[np.argsort(x)]     #fancy indexing; equivalent to x[[2, 4, 0, 1, 3]]"
   ]
  },
  {
   "cell_type": "markdown",
   "id": "7cfad144-34a6-47c6-b09a-0142f9e92706",
   "metadata": {},
   "source": [
    "SORTING ALONG ROWS OR COLUMNS"
   ]
  },
  {
   "cell_type": "code",
   "execution_count": 2,
   "id": "0b6e08df-4328-4cc2-a0e8-8e451df67853",
   "metadata": {},
   "outputs": [
    {
     "data": {
      "text/plain": [
       "array([[6, 3, 7, 4, 6, 9],\n",
       "       [2, 6, 7, 4, 3, 7],\n",
       "       [7, 2, 5, 4, 1, 7],\n",
       "       [5, 1, 4, 0, 9, 5]])"
      ]
     },
     "execution_count": 2,
     "metadata": {},
     "output_type": "execute_result"
    }
   ],
   "source": [
    "import numpy as np\n",
    "rand = np.random.RandomState(42)\n",
    "X = rand.randint(0, 10, (4, 6))\n",
    "X"
   ]
  },
  {
   "cell_type": "code",
   "execution_count": 3,
   "id": "ad754960-9ac8-42c9-965f-f1d174496101",
   "metadata": {},
   "outputs": [
    {
     "data": {
      "text/plain": [
       "array([[2, 1, 4, 0, 1, 5],\n",
       "       [5, 2, 5, 4, 3, 7],\n",
       "       [6, 3, 7, 4, 6, 7],\n",
       "       [7, 6, 7, 4, 9, 9]])"
      ]
     },
     "execution_count": 3,
     "metadata": {},
     "output_type": "execute_result"
    }
   ],
   "source": [
    "np.sort(X, axis = 0)"
   ]
  },
  {
   "cell_type": "code",
   "execution_count": 4,
   "id": "d2f72e8d-353b-422d-93fe-c7b839006356",
   "metadata": {},
   "outputs": [
    {
     "data": {
      "text/plain": [
       "array([[3, 4, 6, 6, 7, 9],\n",
       "       [2, 3, 4, 6, 7, 7],\n",
       "       [1, 2, 4, 5, 7, 7],\n",
       "       [0, 1, 4, 5, 5, 9]])"
      ]
     },
     "execution_count": 4,
     "metadata": {},
     "output_type": "execute_result"
    }
   ],
   "source": [
    "np.sort(X, axis = 1)"
   ]
  },
  {
   "cell_type": "markdown",
   "id": "2f9019fb-e47e-4610-b6c6-2e81fd62d4e0",
   "metadata": {},
   "source": [
    "Partial Sorts: Partitioning\n",
    "Sometimes, we do not want to sort the entire array, rather we want to simply find the K smallest\n",
    "values in the array. In order to do so, NumPy provide the np.partition function"
   ]
  },
  {
   "cell_type": "code",
   "execution_count": 5,
   "id": "51743b8d-4d55-4b01-896d-c19c8f0f04e9",
   "metadata": {},
   "outputs": [
    {
     "name": "stdout",
     "output_type": "stream",
     "text": [
      "[7 2 3 1 6 5 4]\n"
     ]
    },
    {
     "data": {
      "text/plain": [
       "array([2, 1, 3, 4, 6, 5, 7])"
      ]
     },
     "execution_count": 5,
     "metadata": {},
     "output_type": "execute_result"
    }
   ],
   "source": [
    "import numpy as np\n",
    "x = np.array([7, 2, 3, 1, 6, 5, 4])\n",
    "print(x)\n",
    "np.partition(x, 3) # The first 3 elements in the returned arrays are the smallest 3"
   ]
  },
  {
   "cell_type": "code",
   "execution_count": 8,
   "id": "1ade3640-cff7-4761-ba78-5437858e5c6f",
   "metadata": {},
   "outputs": [
    {
     "data": {
      "text/plain": [
       "array([6, 7, 5, 4, 2, 3, 1])"
      ]
     },
     "execution_count": 8,
     "metadata": {},
     "output_type": "execute_result"
    }
   ],
   "source": [
    "# get the largest k numbers\n",
    "-np.partition(-x, 3) # k = 3"
   ]
  },
  {
   "cell_type": "code",
   "execution_count": 9,
   "id": "2c74f9e0-0173-463d-b4c9-9c8104506e81",
   "metadata": {},
   "outputs": [
    {
     "data": {
      "text/plain": [
       "array([[6, 3, 7, 4, 6, 9],\n",
       "       [2, 6, 7, 4, 3, 7],\n",
       "       [7, 2, 5, 4, 1, 7],\n",
       "       [5, 1, 4, 0, 9, 5]])"
      ]
     },
     "execution_count": 9,
     "metadata": {},
     "output_type": "execute_result"
    }
   ],
   "source": [
    "rand = np.random.RandomState(42)\n",
    "X = rand.randint(0, 10, (4,6))\n",
    "X"
   ]
  },
  {
   "cell_type": "code",
   "execution_count": 10,
   "id": "72eb5a3b-4e5c-4cfe-8094-ba31646c5b1d",
   "metadata": {},
   "outputs": [
    {
     "data": {
      "text/plain": [
       "array([[3, 4, 6, 6, 7, 9],\n",
       "       [2, 3, 4, 6, 7, 7],\n",
       "       [2, 1, 4, 5, 7, 7],\n",
       "       [0, 4, 1, 5, 9, 5]])"
      ]
     },
     "execution_count": 10,
     "metadata": {},
     "output_type": "execute_result"
    }
   ],
   "source": [
    "np.partition(X, 3, axis=1) # 3 smallest values along rows"
   ]
  },
  {
   "cell_type": "code",
   "execution_count": 11,
   "id": "90457ad9-d996-4bec-a375-0725bf32fefc",
   "metadata": {},
   "outputs": [
    {
     "data": {
      "text/plain": [
       "array([[2, 2, 5, 0, 1, 5],\n",
       "       [5, 1, 4, 4, 3, 7],\n",
       "       [6, 3, 7, 4, 6, 7],\n",
       "       [7, 6, 7, 4, 9, 9]])"
      ]
     },
     "execution_count": 11,
     "metadata": {},
     "output_type": "execute_result"
    }
   ],
   "source": [
    "np.partition(X, 3, axis=0) # 3 smallest values along cols"
   ]
  },
  {
   "cell_type": "markdown",
   "id": "91b6ba47-8d4a-4a71-8518-d9caa5198a56",
   "metadata": {},
   "source": [
    "Structured Data: Numpy’s Structured Arrays\n"
   ]
  },
  {
   "cell_type": "code",
   "execution_count": 12,
   "id": "f06fed2a-b1cf-4356-8bcd-32daac92cd66",
   "metadata": {},
   "outputs": [],
   "source": [
    "name = [\"Alice\", \"Bob\", \"Cathy\", \"Steve\"]\n",
    "age = [35, 42, 25, 15]\n",
    "weight = [60.3, 80.2, 75.1, 51.0]"
   ]
  },
  {
   "cell_type": "code",
   "execution_count": 13,
   "id": "1d982792-eae5-4390-a5f6-4a32224b55a9",
   "metadata": {},
   "outputs": [
    {
     "data": {
      "text/plain": [
       "dtype([('name', '<U10'), ('age', '<i4'), ('weight', '<f8')])"
      ]
     },
     "execution_count": 13,
     "metadata": {},
     "output_type": "execute_result"
    }
   ],
   "source": [
    "import numpy as np\n",
    "#use a compound data type for structured arrays\n",
    "data = np.zeros(4, dtype={'names':('name', 'age', 'weight'),\n",
    "'formats':('U10', 'i4', 'f8')})\n",
    "data.dtype\n"
   ]
  },
  {
   "cell_type": "code",
   "execution_count": 14,
   "id": "36d4488f-c090-4a63-a022-c43c138adf5d",
   "metadata": {},
   "outputs": [
    {
     "data": {
      "text/plain": [
       "array([('', 0, 0.), ('', 0, 0.), ('', 0, 0.), ('', 0, 0.)],\n",
       "      dtype=[('name', '<U10'), ('age', '<i4'), ('weight', '<f8')])"
      ]
     },
     "execution_count": 14,
     "metadata": {},
     "output_type": "execute_result"
    }
   ],
   "source": [
    "data"
   ]
  },
  {
   "cell_type": "code",
   "execution_count": 15,
   "id": "629ca2cb-1434-4e71-807a-604d57b6223c",
   "metadata": {},
   "outputs": [
    {
     "data": {
      "text/plain": [
       "array([('Alice', 35, 60.3), ('Bob', 42, 80.2), ('Cathy', 25, 75.1),\n",
       "       ('Steve', 15, 51. )],\n",
       "      dtype=[('name', '<U10'), ('age', '<i4'), ('weight', '<f8')])"
      ]
     },
     "execution_count": 15,
     "metadata": {},
     "output_type": "execute_result"
    }
   ],
   "source": [
    "data['name'] = name\n",
    "data['age'] = age\n",
    "data['weight'] = weight\n",
    "data"
   ]
  },
  {
   "cell_type": "code",
   "execution_count": 16,
   "id": "67d92243-d3f1-4558-9bc5-e32de89746f7",
   "metadata": {},
   "outputs": [
    {
     "data": {
      "text/plain": [
       "array(['Alice', 'Bob', 'Cathy', 'Steve'], dtype='<U10')"
      ]
     },
     "execution_count": 16,
     "metadata": {},
     "output_type": "execute_result"
    }
   ],
   "source": [
    " # get all names\n",
    "data['name']"
   ]
  },
  {
   "cell_type": "code",
   "execution_count": 17,
   "id": "a67e3fec-c0f3-4da9-80e1-bdff97da177d",
   "metadata": {},
   "outputs": [
    {
     "data": {
      "text/plain": [
       "('Alice', 35, 60.3)"
      ]
     },
     "execution_count": 17,
     "metadata": {},
     "output_type": "execute_result"
    }
   ],
   "source": [
    " # get first row of data\n",
    "data[0]"
   ]
  },
  {
   "cell_type": "code",
   "execution_count": 18,
   "id": "4138f4f4-0187-4db3-9a7a-b3ec57a9b95c",
   "metadata": {},
   "outputs": [
    {
     "data": {
      "text/plain": [
       "('Micheal', 35, 60.3)"
      ]
     },
     "execution_count": 18,
     "metadata": {},
     "output_type": "execute_result"
    }
   ],
   "source": [
    " # updating data value\n",
    "data[0]['name'] = 'Micheal'\n",
    "data[0]"
   ]
  },
  {
   "cell_type": "code",
   "execution_count": 19,
   "id": "2da543e8-da9c-488c-9914-7a81915d5d19",
   "metadata": {},
   "outputs": [
    {
     "data": {
      "text/plain": [
       "'Steve'"
      ]
     },
     "execution_count": 19,
     "metadata": {},
     "output_type": "execute_result"
    }
   ],
   "source": [
    "# get the name from the last row\n",
    "data[-1]['name']"
   ]
  },
  {
   "cell_type": "code",
   "execution_count": 20,
   "id": "a00ccc07-4958-4bf7-baf2-3d997bfdcdcb",
   "metadata": {},
   "outputs": [
    {
     "data": {
      "text/plain": [
       "dtype([('name', '<U10'), ('age', '<i4'), ('weight', '<f8')])"
      ]
     },
     "execution_count": 20,
     "metadata": {},
     "output_type": "execute_result"
    }
   ],
   "source": [
    " np.dtype({'names':('name', 'age', 'weight'),\n",
    "'formats':('U10', 'i4', 'f8')})\n"
   ]
  },
  {
   "cell_type": "code",
   "execution_count": 21,
   "id": "f682f508-2204-453e-a51d-1f8ee5c16fab",
   "metadata": {},
   "outputs": [
    {
     "data": {
      "text/plain": [
       "dtype([('name', '<U10'), ('age', '<i4'), ('weight', '<f4')])"
      ]
     },
     "execution_count": 21,
     "metadata": {},
     "output_type": "execute_result"
    }
   ],
   "source": [
    "# For clarity, numerical types can be specified with Python types of NumPy dtypes\n",
    "np.dtype({'names':('name', 'age', 'weight'),\n",
    "'formats':((np.str_, 10), int, np.float32)}) # Python type (int) and NumPy types (np.str_, np.float32)"
   ]
  },
  {
   "cell_type": "code",
   "execution_count": 22,
   "id": "3908f57e-2a0e-476e-8bb9-0cc91d3c90ab",
   "metadata": {},
   "outputs": [
    {
     "data": {
      "text/plain": [
       "dtype([('name', 'S10'), ('age', '<i4'), ('weight', '<f8')])"
      ]
     },
     "execution_count": 22,
     "metadata": {},
     "output_type": "execute_result"
    }
   ],
   "source": [
    " # compound type can also be specified as a list of tuples\n",
    "np.dtype([('name','S10'),('age','i4'), ('weight','f8')])\n"
   ]
  },
  {
   "cell_type": "code",
   "execution_count": 23,
   "id": "32dd1e4f-e1cb-4a71-9511-9195ab04d6d8",
   "metadata": {},
   "outputs": [
    {
     "data": {
      "text/plain": [
       "dtype([('f0', 'S10'), ('f1', '<i4'), ('f2', '<f8')])"
      ]
     },
     "execution_count": 23,
     "metadata": {},
     "output_type": "execute_result"
    }
   ],
   "source": [
    "# if name of the types do not matter, can specify the types only\n",
    "np.dtype('S10, i4, f8')"
   ]
  },
  {
   "cell_type": "markdown",
   "id": "87abd095-658d-4ff4-b64b-4975f5e43273",
   "metadata": {},
   "source": [
    "RecordArrays: Structured Arrays with a Twist\n"
   ]
  },
  {
   "cell_type": "code",
   "execution_count": 25,
   "id": "ba8fce21-e44a-4f02-823a-dc830030f6ab",
   "metadata": {},
   "outputs": [
    {
     "data": {
      "text/plain": [
       "array([35, 42, 25, 15])"
      ]
     },
     "execution_count": 25,
     "metadata": {},
     "output_type": "execute_result"
    }
   ],
   "source": [
    "data['age']"
   ]
  },
  {
   "cell_type": "code",
   "execution_count": 26,
   "id": "da80ed80-066c-4072-8304-31a59c86121f",
   "metadata": {},
   "outputs": [
    {
     "data": {
      "text/plain": [
       "array([60.3, 80.2, 75.1, 51. ])"
      ]
     },
     "execution_count": 26,
     "metadata": {},
     "output_type": "execute_result"
    }
   ],
   "source": [
    "data_rec = data.view(np.recarray) # RecordArray\n",
    "data_rec.weight # recordarray makes it possible to access 'age' as an attribute"
   ]
  },
  {
   "cell_type": "code",
   "execution_count": 28,
   "id": "23289e98-0cb3-431c-b655-f547dd76a8a4",
   "metadata": {},
   "outputs": [
    {
     "name": "stdout",
     "output_type": "stream",
     "text": [
      "439 ns ± 55.8 ns per loop (mean ± std. dev. of 7 runs, 1,000,000 loops each)\n",
      "4.86 μs ± 710 ns per loop (mean ± std. dev. of 7 runs, 100,000 loops each)\n",
      "17.7 μs ± 5.91 μs per loop (mean ± std. dev. of 7 runs, 100,000 loops each)\n"
     ]
    }
   ],
   "source": [
    "%timeit data['age']\n",
    "%timeit data_rec['age']\n",
    "%timeit data_rec.age"
   ]
  },
  {
   "cell_type": "code",
   "execution_count": null,
   "id": "7ed024a6-4abf-408f-b0a1-9f617b9280a2",
   "metadata": {},
   "outputs": [],
   "source": []
  }
 ],
 "metadata": {
  "kernelspec": {
   "display_name": "Python 3 (ipykernel)",
   "language": "python",
   "name": "python3"
  },
  "language_info": {
   "codemirror_mode": {
    "name": "ipython",
    "version": 3
   },
   "file_extension": ".py",
   "mimetype": "text/x-python",
   "name": "python",
   "nbconvert_exporter": "python",
   "pygments_lexer": "ipython3",
   "version": "3.12.4"
  }
 },
 "nbformat": 4,
 "nbformat_minor": 5
}
