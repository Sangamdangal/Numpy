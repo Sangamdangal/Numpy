{
 "cells": [
  {
   "cell_type": "markdown",
   "id": "c998229e-59b4-4e3a-b3fd-c2ca7aa476ca",
   "metadata": {},
   "source": [
    "Numpy"
   ]
  },
  {
   "cell_type": "code",
   "execution_count": 2,
   "id": "5d410cbd-5119-4a75-bed9-0c28b1b17ad0",
   "metadata": {},
   "outputs": [
    {
     "data": {
      "text/plain": [
       "'1.26.4'"
      ]
     },
     "execution_count": 2,
     "metadata": {},
     "output_type": "execute_result"
    }
   ],
   "source": [
    "import numpy\n",
    "numpy.__version__"
   ]
  },
  {
   "cell_type": "code",
   "execution_count": 3,
   "id": "af95400f-73fd-4755-bd85-8af5b89c3767",
   "metadata": {},
   "outputs": [
    {
     "data": {
      "text/plain": [
       "'1.26.4'"
      ]
     },
     "execution_count": 3,
     "metadata": {},
     "output_type": "execute_result"
    }
   ],
   "source": [
    "import numpy as np\n",
    "np.__version__"
   ]
  },
  {
   "cell_type": "code",
   "execution_count": 8,
   "id": "6799e190-88cf-40d1-9c38-0d950ff90126",
   "metadata": {},
   "outputs": [
    {
     "name": "stdout",
     "output_type": "stream",
     "text": [
      "[5 0 3 3 7 9]\n",
      "[[3 5 2]\n",
      " [4 7 6]\n",
      " [8 8 1]\n",
      " [6 7 7]]\n"
     ]
    }
   ],
   "source": [
    "# NumPy Array Attributes: ONE-MULTI-THREE dimensional array\n",
    "import numpy as np\n",
    "np.random.seed(0)  #seed ensures that we get the same random numbers each time\n",
    "\n",
    "x1 = np.random.randint(10, size = 6)\n",
    "x2 = np.random.randint(10, size = (4,3))\n",
    "x3 = np.random.randint(10, size = (2,3,4))\n",
    "print(x1)\n",
    "print(x2)"
   ]
  },
  {
   "cell_type": "code",
   "execution_count": 9,
   "id": "fc2e35b7-37bf-4dd0-b3b3-efbcdae78523",
   "metadata": {},
   "outputs": [
    {
     "name": "stdout",
     "output_type": "stream",
     "text": [
      "1\n",
      "2\n",
      "3\n"
     ]
    }
   ],
   "source": [
    "#no of dimension (ndim)\n",
    "print(x1.ndim)\n",
    "print(x2.ndim)\n",
    "print(x3.ndim)"
   ]
  },
  {
   "cell_type": "code",
   "execution_count": 11,
   "id": "42023c99-5916-4df6-b573-d481439c6874",
   "metadata": {},
   "outputs": [
    {
     "name": "stdout",
     "output_type": "stream",
     "text": [
      "(6,)\n",
      "(4, 3)\n",
      "(2, 3, 4)\n"
     ]
    }
   ],
   "source": [
    "#shape of dimension(rows.columns)\n",
    "print(x1.shape)\n",
    "print(x2.shape)\n",
    "print(x3.shape)"
   ]
  },
  {
   "cell_type": "code",
   "execution_count": 12,
   "id": "894ef901-9b1a-4904-8d27-b8dce40f0bc3",
   "metadata": {},
   "outputs": [
    {
     "name": "stdout",
     "output_type": "stream",
     "text": [
      "6\n",
      "12\n",
      "24\n"
     ]
    }
   ],
   "source": [
    "#size of array (rows*col)\n",
    "print(x1.size)\n",
    "print(x2.size)\n",
    "print(x3.size)"
   ]
  },
  {
   "cell_type": "code",
   "execution_count": 14,
   "id": "af50e6e5-7094-4489-a947-4171a6cc98e3",
   "metadata": {},
   "outputs": [
    {
     "data": {
      "text/plain": [
       "dtype('int32')"
      ]
     },
     "execution_count": 14,
     "metadata": {},
     "output_type": "execute_result"
    }
   ],
   "source": [
    "#ATTRIBUTE\n",
    "x1.dtype #data type of the array"
   ]
  },
  {
   "cell_type": "code",
   "execution_count": 16,
   "id": "f39e005e-6d34-42d1-9cdc-0fe5d5d00c0e",
   "metadata": {},
   "outputs": [
    {
     "name": "stdout",
     "output_type": "stream",
     "text": [
      "x1 itemsize:  4\n",
      "x1 nbytes:  24\n"
     ]
    }
   ],
   "source": [
    "#attributes of numpy array are (itemsize and nbytes)\n",
    "print('x1 itemsize: ', x1.itemsize)\n",
    "print('x1 nbytes: ', x1.nbytes)"
   ]
  },
  {
   "cell_type": "code",
   "execution_count": 17,
   "id": "906ca62f-2b09-4115-8009-d65af5b1f471",
   "metadata": {},
   "outputs": [
    {
     "name": "stdout",
     "output_type": "stream",
     "text": [
      "[5 0 3 3 7 9]\n",
      "7\n"
     ]
    }
   ],
   "source": [
    "# Array indexing: For one-dimensional arrays, array indexing is the same as list indexing.\n",
    "\n",
    "print(x1)\n",
    "print(x1[4])"
   ]
  },
  {
   "cell_type": "code",
   "execution_count": 26,
   "id": "2392759f-fc92-4dde-a216-0f89b94a8ac4",
   "metadata": {},
   "outputs": [
    {
     "name": "stdout",
     "output_type": "stream",
     "text": [
      "[[3 5 2]\n",
      " [4 7 6]\n",
      " [8 8 1]\n",
      " [6 7 7]]\n",
      "item at row 3, column 3: 7\n",
      "item at row 1, column 3: 1\n",
      "item at row 1, column 3: 5\n",
      "item at row 1, column 1: 3\n"
     ]
    }
   ],
   "source": [
    "#For multi-dimensional arrays, you can access items with comma-separated tuple of indices.\n",
    "\n",
    "print(x2)\n",
    "print('item at row 3, column 3:',x2[3,2])\n",
    "print('item at row 1, column 3:',x2[2,2])\n",
    "print('item at row 1, column 3:',x2[0,-2])\n",
    "print('item at row 1, column 1:',x2[0,0])"
   ]
  },
  {
   "cell_type": "code",
   "execution_count": 28,
   "id": "cc41b1d2-1df7-4d79-8ac5-2d896af62e69",
   "metadata": {},
   "outputs": [
    {
     "name": "stdout",
     "output_type": "stream",
     "text": [
      "[[3 5 2]\n",
      " [4 7 6]\n",
      " [8 8 3]\n",
      " [6 7 7]]\n",
      "updated item at row 3, column 3:  3\n"
     ]
    }
   ],
   "source": [
    "#update a value using indexing\n",
    "\n",
    "x2[2,-1] = 3.14159\n",
    "print(x2)\n",
    "print(\"updated item at row 3, column 3: \",x2[2,-1])"
   ]
  },
  {
   "cell_type": "code",
   "execution_count": 29,
   "id": "9811ffd3-bdfa-44b5-8468-eb1b5c4b16a0",
   "metadata": {},
   "outputs": [
    {
     "data": {
      "text/plain": [
       "array([0, 1, 2, 3, 4, 5, 6, 7, 8, 9])"
      ]
     },
     "execution_count": 29,
     "metadata": {},
     "output_type": "execute_result"
    }
   ],
   "source": [
    "#Array slicing : One dimensional array\n",
    "\n",
    "import numpy as np\n",
    "x = np.arange(10)\n",
    "x"
   ]
  },
  {
   "cell_type": "code",
   "execution_count": 32,
   "id": "0a8c8040-8cf1-4ac2-9a08-0f4be3b7a1dc",
   "metadata": {},
   "outputs": [
    {
     "name": "stdout",
     "output_type": "stream",
     "text": [
      "x[:6]: [0 1 2 3 4 5 6]\n",
      "x[2:]: [2 3 4 5 6 7 8 9]\n",
      "x[1:6]: [1 2 3 4 5]\n",
      "x[2::2]: [2 4 6 8]\n",
      "x[::]: [0 1 2 3 4 5 6 7 8 9]\n",
      "x[::2]:  [0 2 4 6 8]\n",
      "x[7:3:-1]: [7 6 5 4]\n"
     ]
    }
   ],
   "source": [
    "#slicing\n",
    "print('x[:6]:', x[:7])\n",
    "print('x[2:]:', x[2:])\n",
    "print('x[1:6]:', x[1:6])\n",
    "print('x[2::2]:', x[2::2])   # access every other element starting from the index 2\n",
    "print('x[::]:', x[::])       # access all elements\n",
    "print(\"x[::2]: \", x[::2])     # access every other element starting from the first\n",
    "print(\"x[7:3:-1]:\", x[7:3:-1]) # index 7 to index 4 decremented by 1"
   ]
  },
  {
   "cell_type": "code",
   "execution_count": 33,
   "id": "9b8ce766-a090-43a8-92b1-cd8d37ace03a",
   "metadata": {},
   "outputs": [
    {
     "data": {
      "text/plain": [
       "array([[3, 5, 2],\n",
       "       [4, 7, 6],\n",
       "       [8, 8, 3],\n",
       "       [6, 7, 7]])"
      ]
     },
     "execution_count": 33,
     "metadata": {},
     "output_type": "execute_result"
    }
   ],
   "source": [
    "#Accessing Multi-dimensional subarrays\n",
    "\n",
    "x2"
   ]
  },
  {
   "cell_type": "code",
   "execution_count": 35,
   "id": "3368b780-99d3-49bf-b2f3-0e65421c2241",
   "metadata": {},
   "outputs": [
    {
     "data": {
      "text/plain": [
       "array([[3, 5],\n",
       "       [4, 7],\n",
       "       [8, 8]])"
      ]
     },
     "execution_count": 35,
     "metadata": {},
     "output_type": "execute_result"
    }
   ],
   "source": [
    "#multi-dimension\n",
    "x2[:3, :2]    # rows => index 0 to 2; columns => index 0 to 1"
   ]
  },
  {
   "cell_type": "code",
   "execution_count": 36,
   "id": "650f97d5-e804-442c-bbc6-386235732ff5",
   "metadata": {},
   "outputs": [
    {
     "data": {
      "text/plain": [
       "array([[3, 5, 2],\n",
       "       [8, 8, 3]])"
      ]
     },
     "execution_count": 36,
     "metadata": {},
     "output_type": "execute_result"
    }
   ],
   "source": [
    "x2[::2, :]      # every other row; all columns"
   ]
  },
  {
   "cell_type": "code",
   "execution_count": 37,
   "id": "a37b0e33-7567-46ef-b720-84f1f89312e2",
   "metadata": {},
   "outputs": [
    {
     "data": {
      "text/plain": [
       "array([[6, 7],\n",
       "       [4, 7]])"
      ]
     },
     "execution_count": 37,
     "metadata": {},
     "output_type": "execute_result"
    }
   ],
   "source": [
    "x2[::-2, :-1]    # reverse altogether - both rows and columns"
   ]
  },
  {
   "cell_type": "code",
   "execution_count": 39,
   "id": "80478528-91b0-4b17-92f1-f8fb9863e9bf",
   "metadata": {},
   "outputs": [
    {
     "data": {
      "text/plain": [
       "array([[3, 5, 2],\n",
       "       [4, 7, 6],\n",
       "       [8, 8, 3],\n",
       "       [6, 7, 7]])"
      ]
     },
     "execution_count": 39,
     "metadata": {},
     "output_type": "execute_result"
    }
   ],
   "source": [
    "#accessing rows and columns\n",
    "\n",
    "x2"
   ]
  },
  {
   "cell_type": "code",
   "execution_count": 42,
   "id": "a679366b-6842-49dd-a2a3-a6df409174ac",
   "metadata": {},
   "outputs": [
    {
     "data": {
      "text/plain": [
       "array([5, 7, 8, 7])"
      ]
     },
     "execution_count": 42,
     "metadata": {},
     "output_type": "execute_result"
    }
   ],
   "source": [
    "x2[:,1]   #second column"
   ]
  },
  {
   "cell_type": "code",
   "execution_count": 43,
   "id": "7beefee5-dfcf-4aa1-a53e-1752f27df4a1",
   "metadata": {},
   "outputs": [
    {
     "data": {
      "text/plain": [
       "array([4, 7, 6])"
      ]
     },
     "execution_count": 43,
     "metadata": {},
     "output_type": "execute_result"
    }
   ],
   "source": [
    "x2[1,:]  #second row"
   ]
  },
  {
   "cell_type": "code",
   "execution_count": 47,
   "id": "b5614479-7240-4548-8f59-184e3dd6fcf9",
   "metadata": {},
   "outputs": [
    {
     "data": {
      "text/plain": [
       "array([0, 1, 2, 3, 4, 5, 6, 7, 8, 9])"
      ]
     },
     "execution_count": 47,
     "metadata": {},
     "output_type": "execute_result"
    }
   ],
   "source": [
    "#RESHAPING ARRAYS\n",
    "z = np.arange(0,10)  #OR np.arange(10)\n",
    "z"
   ]
  },
  {
   "cell_type": "code",
   "execution_count": 48,
   "id": "da3b8432-8cb2-4524-8406-51f90cbfd56a",
   "metadata": {},
   "outputs": [
    {
     "data": {
      "text/plain": [
       "1"
      ]
     },
     "execution_count": 48,
     "metadata": {},
     "output_type": "execute_result"
    }
   ],
   "source": [
    "z.ndim"
   ]
  },
  {
   "cell_type": "code",
   "execution_count": 57,
   "id": "6eae18b4-1663-4903-a932-646eb3f7b655",
   "metadata": {},
   "outputs": [
    {
     "data": {
      "text/plain": [
       "array([[0, 1, 2, 3, 4, 5, 6, 7, 8, 9]])"
      ]
     },
     "execution_count": 57,
     "metadata": {},
     "output_type": "execute_result"
    }
   ],
   "source": [
    "z.reshape((1,10))"
   ]
  },
  {
   "cell_type": "code",
   "execution_count": 56,
   "id": "9220e34d-5016-48c3-aa72-16e72f29119f",
   "metadata": {},
   "outputs": [
    {
     "data": {
      "text/plain": [
       "(10,)"
      ]
     },
     "execution_count": 56,
     "metadata": {},
     "output_type": "execute_result"
    }
   ],
   "source": [
    "z.shape"
   ]
  },
  {
   "cell_type": "code",
   "execution_count": 58,
   "id": "1dfead59-4249-40c0-b259-248a4174b981",
   "metadata": {},
   "outputs": [
    {
     "data": {
      "text/plain": [
       "array([[0, 1, 2, 3, 4, 5, 6, 7, 8, 9]])"
      ]
     },
     "execution_count": 58,
     "metadata": {},
     "output_type": "execute_result"
    }
   ],
   "source": [
    "# row vector using newaxis\n",
    "x[np.newaxis,:]"
   ]
  },
  {
   "cell_type": "code",
   "execution_count": 60,
   "id": "ce56bedb-bea9-4686-ac40-dbddedc50344",
   "metadata": {},
   "outputs": [
    {
     "data": {
      "text/plain": [
       "array([[0],\n",
       "       [1],\n",
       "       [2],\n",
       "       [3],\n",
       "       [4],\n",
       "       [5],\n",
       "       [6],\n",
       "       [7],\n",
       "       [8],\n",
       "       [9]])"
      ]
     },
     "execution_count": 60,
     "metadata": {},
     "output_type": "execute_result"
    }
   ],
   "source": [
    "# column vector using newaxis\n",
    "x[:, np.newaxis]"
   ]
  },
  {
   "cell_type": "code",
   "execution_count": 61,
   "id": "13818601-e655-4592-889d-ba4771e514fa",
   "metadata": {},
   "outputs": [
    {
     "data": {
      "text/plain": [
       "array([2, 4, 6, 7, 8, 9])"
      ]
     },
     "execution_count": 61,
     "metadata": {},
     "output_type": "execute_result"
    }
   ],
   "source": [
    "#Concatenate\n",
    "\n",
    "import numpy as np\n",
    "x = np.array([2,4,6])\n",
    "y = np.array([7,8,9])\n",
    "np.concatenate([x,y])"
   ]
  },
  {
   "cell_type": "code",
   "execution_count": 66,
   "id": "ae7787da-d7ed-4cbf-8896-09d4e6a76f9c",
   "metadata": {},
   "outputs": [
    {
     "data": {
      "text/plain": [
       "array([2, 4, 6, 7, 8, 9, 1, 2, 3])"
      ]
     },
     "execution_count": 66,
     "metadata": {},
     "output_type": "execute_result"
    }
   ],
   "source": [
    "#concatenate more thann 2 array\n",
    "z = np.array([1,2,3])\n",
    "np.concatenate([x,y,z])"
   ]
  },
  {
   "cell_type": "code",
   "execution_count": 71,
   "id": "3ab4b1e7-ef37-40b5-9374-285b3cd44adf",
   "metadata": {},
   "outputs": [
    {
     "data": {
      "text/plain": [
       "array([[1, 2, 3],\n",
       "       [4, 5, 6],\n",
       "       [1, 2, 3],\n",
       "       [4, 5, 6]])"
      ]
     },
     "execution_count": 71,
     "metadata": {},
     "output_type": "execute_result"
    }
   ],
   "source": [
    "array2d = ([\n",
    "    [1,2,3],\n",
    "    [4,5,6]])\n",
    "np.concatenate([array2d,array2d]) #axis = 0 by default (row) #axis = 1 (column)"
   ]
  },
  {
   "cell_type": "code",
   "execution_count": 72,
   "id": "ea52eed3-1a78-426f-bc27-f896471cbfb5",
   "metadata": {},
   "outputs": [
    {
     "data": {
      "text/plain": [
       "array([[1, 2, 3, 1, 2, 3],\n",
       "       [4, 5, 6, 4, 5, 6]])"
      ]
     },
     "execution_count": 72,
     "metadata": {},
     "output_type": "execute_result"
    }
   ],
   "source": [
    "np.concatenate([array2d,array2d], axis = 1)"
   ]
  },
  {
   "cell_type": "code",
   "execution_count": 80,
   "id": "ea76f851-b322-4e76-a03c-032a9e1b7390",
   "metadata": {},
   "outputs": [
    {
     "data": {
      "text/plain": [
       "array([[1, 2, 3],\n",
       "       [4, 5, 6],\n",
       "       [1, 2, 3],\n",
       "       [4, 5, 6]])"
      ]
     },
     "execution_count": 80,
     "metadata": {},
     "output_type": "execute_result"
    }
   ],
   "source": [
    "np.vstack([array2d, array2d]) #vertical stack"
   ]
  },
  {
   "cell_type": "code",
   "execution_count": 81,
   "id": "bba7ac22-b532-4552-b917-9999fb42c34f",
   "metadata": {},
   "outputs": [
    {
     "data": {
      "text/plain": [
       "array([[1, 2, 3, 1, 2, 3],\n",
       "       [4, 5, 6, 4, 5, 6]])"
      ]
     },
     "execution_count": 81,
     "metadata": {},
     "output_type": "execute_result"
    }
   ],
   "source": [
    "np.hstack([array2d, array2d]) #horizontally stack"
   ]
  },
  {
   "cell_type": "code",
   "execution_count": 62,
   "id": "23cf5634-fd83-4bf0-b700-947e71778c1a",
   "metadata": {},
   "outputs": [
    {
     "name": "stdout",
     "output_type": "stream",
     "text": [
      "[1 2 5] [6 8 9] [3]\n"
     ]
    }
   ],
   "source": [
    "#SPLITTING OF ARRAYS\n",
    "\n",
    "x = [1,2,5,6,8,9,3]\n",
    "x1,x2,x3 = np.split(x, [3,6])\n",
    "print(x1,x2,x3)"
   ]
  },
  {
   "cell_type": "code",
   "execution_count": 64,
   "id": "bd35d2db-70df-4e7c-9b26-b831b1e907ef",
   "metadata": {},
   "outputs": [
    {
     "data": {
      "text/plain": [
       "array([[0, 1, 2],\n",
       "       [3, 4, 5],\n",
       "       [6, 7, 8]])"
      ]
     },
     "execution_count": 64,
     "metadata": {},
     "output_type": "execute_result"
    }
   ],
   "source": [
    "grid = np.arange(9).reshape((3, 3))\n",
    "grid"
   ]
  },
  {
   "cell_type": "code",
   "execution_count": 74,
   "id": "9f861322-8eaa-422c-8a42-a01fd05539e8",
   "metadata": {},
   "outputs": [
    {
     "name": "stdout",
     "output_type": "stream",
     "text": [
      "[[0 1]\n",
      " [3 4]\n",
      " [6 7]]\n",
      "[[2]\n",
      " [5]\n",
      " [8]]\n"
     ]
    }
   ],
   "source": [
    "#hsplit\n",
    "left, right = np.hsplit(grid, [2])\n",
    "print(left)\n",
    "print(right)"
   ]
  },
  {
   "cell_type": "code",
   "execution_count": 75,
   "id": "4da82778-d2b8-446c-87df-5db2d1bdc22a",
   "metadata": {},
   "outputs": [
    {
     "name": "stdout",
     "output_type": "stream",
     "text": [
      "[[0 1 2]\n",
      " [3 4 5]]\n",
      "[[6 7 8]]\n"
     ]
    }
   ],
   "source": [
    "#vsplit\n",
    "upper, lower = np.vsplit(grid, [2])\n",
    "print(upper)\n",
    "print(lower)"
   ]
  },
  {
   "cell_type": "code",
   "execution_count": 79,
   "id": "c3340c15-bd70-40c1-9760-4a9420505be4",
   "metadata": {},
   "outputs": [],
   "source": [
    "# %timeit compute_reciprocals(array)"
   ]
  },
  {
   "cell_type": "code",
   "execution_count": 81,
   "id": "3859359c-91ab-4a4d-b3fb-4964f35504ba",
   "metadata": {},
   "outputs": [
    {
     "name": "stdout",
     "output_type": "stream",
     "text": [
      "x =  [0 1 2 3]\n",
      "x + 5 =  [5 6 7 8]\n",
      "x - 5 =  [-5 -4 -3 -2]\n",
      "x * 5 =  [ 0  5 10 15]\n",
      "x / 5 =  [0.  0.2 0.4 0.6]\n",
      "x // 5 =  [0 0 0 0]\n",
      " -x =  [ 0 -1 -2 -3]\n",
      " x ** 2 =  [0 1 4 9]\n",
      " x % 2 =  [0 1 0 1]\n"
     ]
    }
   ],
   "source": [
    "x = np.arange(4)\n",
    "\n",
    "print(\"x = \", x)\n",
    "print(\"x + 5 = \", x + 5)\n",
    "print(\"x - 5 = \", x - 5)\n",
    "print(\"x * 5 = \", x * 5)\n",
    "print(\"x / 5 = \", x / 5)\n",
    "print(\"x // 5 = \", x // 5) # floor division\n",
    "\n",
    "print(\" -x = \", -x) # negation (unary operation)\n",
    "print(\" x ** 2 = \", x ** 2) # exponentiation\n",
    "print(\" x % 2 = \", x % 2) # modulus"
   ]
  },
  {
   "cell_type": "code",
   "execution_count": 83,
   "id": "3858b1f6-84c7-4cf6-b0ce-dc86baed26f6",
   "metadata": {},
   "outputs": [
    {
     "data": {
      "text/plain": [
       "array([ 2,  4, 10,  6,  1])"
      ]
     },
     "execution_count": 83,
     "metadata": {},
     "output_type": "execute_result"
    }
   ],
   "source": [
    "x = np.array([-2, 4, -10, -6, -1])\n",
    "abs(x) # built-in absolute function"
   ]
  },
  {
   "cell_type": "code",
   "execution_count": 84,
   "id": "5fe546fb-4136-4f6f-9a3f-c07c92edffa1",
   "metadata": {},
   "outputs": [
    {
     "data": {
      "text/plain": [
       "array([0.        , 1.57079633, 3.14159265])"
      ]
     },
     "execution_count": 84,
     "metadata": {},
     "output_type": "execute_result"
    }
   ],
   "source": [
    "#Trigonometric functions\n",
    "\n",
    "theta = np.linspace(0, np.pi, 3)\n",
    "theta"
   ]
  },
  {
   "cell_type": "code",
   "execution_count": 85,
   "id": "91f55186-6c4d-4b9c-a64e-0266bd82d804",
   "metadata": {},
   "outputs": [
    {
     "name": "stdout",
     "output_type": "stream",
     "text": [
      "sin(theta) = [0.0000000e+00 1.0000000e+00 1.2246468e-16]\n",
      "cos(theta) = [ 1.000000e+00  6.123234e-17 -1.000000e+00]\n",
      "tan(theta) = [ 0.00000000e+00  1.63312394e+16 -1.22464680e-16]\n"
     ]
    }
   ],
   "source": [
    "print('sin(theta) =', np.sin(theta))\n",
    "print('cos(theta) =', np.cos(theta))\n",
    "print('tan(theta) =', np.tan(theta))\n"
   ]
  },
  {
   "cell_type": "code",
   "execution_count": 90,
   "id": "017edb97-a227-4ca5-a170-7a51c788cdf4",
   "metadata": {},
   "outputs": [
    {
     "name": "stdout",
     "output_type": "stream",
     "text": [
      "x = [2, 3, 4, 5]\n",
      "e^x= [  7.3890561   20.08553692  54.59815003 148.4131591 ]\n",
      "2^x= [ 4.  8. 16. 32.]\n",
      "3^x= [  9  27  81 243]\n"
     ]
    }
   ],
   "source": [
    "#Exponents and logarithms\n",
    "#exponents\n",
    "x = [2,3,4,5]\n",
    "print('x =', x)\n",
    "print('e^x=', np.exp(x))\n",
    "print('2^x=', np.exp2(x))\n",
    "print('3^x=', np.power(3,x))"
   ]
  },
  {
   "cell_type": "code",
   "execution_count": 95,
   "id": "cb5c4366-3c97-466d-8825-b83e2a3f92a7",
   "metadata": {},
   "outputs": [
    {
     "name": "stdout",
     "output_type": "stream",
     "text": [
      "x= [4, 6, 8, 9]\n",
      "ln(x): [1.38629436 1.79175947 2.07944154 2.19722458]\n",
      "log2(x): [2.        2.5849625 3.        3.169925 ]\n",
      "log10(x): [0.60205999 0.77815125 0.90308999 0.95424251]\n"
     ]
    }
   ],
   "source": [
    "#logarithms\n",
    "\n",
    "x = [4,6,8,9]\n",
    "\n",
    "print('x=', x)\n",
    "print('ln(x):', np.log(x))\n",
    "print('log2(x):', np.log2(x))\n",
    "print('log10(x):', np.log10(x))"
   ]
  }
 ],
 "metadata": {
  "kernelspec": {
   "display_name": "Python 3 (ipykernel)",
   "language": "python",
   "name": "python3"
  },
  "language_info": {
   "codemirror_mode": {
    "name": "ipython",
    "version": 3
   },
   "file_extension": ".py",
   "mimetype": "text/x-python",
   "name": "python",
   "nbconvert_exporter": "python",
   "pygments_lexer": "ipython3",
   "version": "3.12.4"
  }
 },
 "nbformat": 4,
 "nbformat_minor": 5
}
