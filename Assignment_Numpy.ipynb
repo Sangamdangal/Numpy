{
 "cells": [
  {
   "cell_type": "markdown",
   "id": "e65d6d20-32b7-4d01-a76a-8fb48d5f2321",
   "metadata": {},
   "source": [
    "NumPy Assignment"
   ]
  },
  {
   "cell_type": "markdown",
   "id": "24fdd419-dc50-4048-b4e5-7ecd7bf80cca",
   "metadata": {},
   "source": [
    "Qn 1 Run the following code"
   ]
  },
  {
   "cell_type": "code",
   "execution_count": 26,
   "id": "83af6e51-df0a-4269-8193-acc04f8fe30f",
   "metadata": {},
   "outputs": [
    {
     "name": "stdout",
     "output_type": "stream",
     "text": [
      "x = [ 0 10 20 30]\n",
      "y = [-5 10 20 30]\n"
     ]
    }
   ],
   "source": [
    "import numpy as np\n",
    "\n",
    "x = np.array([0, 10, 20, 30])\n",
    "y = np.array([-5, 10, 20, 30])\n",
    "print('x =',x); print('y =',y)"
   ]
  },
  {
   "cell_type": "code",
   "execution_count": 4,
   "id": "6a78c805-d474-4ff6-898c-b42944f95050",
   "metadata": {},
   "outputs": [
    {
     "data": {
      "text/plain": [
       "\u001b[1;31mSignature:\u001b[0m       \u001b[0mnp\u001b[0m\u001b[1;33m.\u001b[0m\u001b[0many\u001b[0m\u001b[1;33m(\u001b[0m\u001b[0ma\u001b[0m\u001b[1;33m,\u001b[0m \u001b[0maxis\u001b[0m\u001b[1;33m=\u001b[0m\u001b[1;32mNone\u001b[0m\u001b[1;33m,\u001b[0m \u001b[0mout\u001b[0m\u001b[1;33m=\u001b[0m\u001b[1;32mNone\u001b[0m\u001b[1;33m,\u001b[0m \u001b[0mkeepdims\u001b[0m\u001b[1;33m=\u001b[0m\u001b[1;33m<\u001b[0m\u001b[0mno\u001b[0m \u001b[0mvalue\u001b[0m\u001b[1;33m>\u001b[0m\u001b[1;33m,\u001b[0m \u001b[1;33m*\u001b[0m\u001b[1;33m,\u001b[0m \u001b[0mwhere\u001b[0m\u001b[1;33m=\u001b[0m\u001b[1;33m<\u001b[0m\u001b[0mno\u001b[0m \u001b[0mvalue\u001b[0m\u001b[1;33m>\u001b[0m\u001b[1;33m)\u001b[0m\u001b[1;33m\u001b[0m\u001b[1;33m\u001b[0m\u001b[0m\n",
       "\u001b[1;31mCall signature:\u001b[0m  \u001b[0mnp\u001b[0m\u001b[1;33m.\u001b[0m\u001b[0many\u001b[0m\u001b[1;33m(\u001b[0m\u001b[1;33m*\u001b[0m\u001b[0margs\u001b[0m\u001b[1;33m,\u001b[0m \u001b[1;33m**\u001b[0m\u001b[0mkwargs\u001b[0m\u001b[1;33m)\u001b[0m\u001b[1;33m\u001b[0m\u001b[1;33m\u001b[0m\u001b[0m\n",
       "\u001b[1;31mType:\u001b[0m            _ArrayFunctionDispatcher\n",
       "\u001b[1;31mString form:\u001b[0m     <function any at 0x000001E9794E82C0>\n",
       "\u001b[1;31mFile:\u001b[0m            c:\\users\\hp\\anaconda3\\lib\\site-packages\\numpy\\core\\fromnumeric.py\n",
       "\u001b[1;31mDocstring:\u001b[0m      \n",
       "Test whether any array element along a given axis evaluates to True.\n",
       "\n",
       "Returns single boolean if `axis` is ``None``\n",
       "\n",
       "Parameters\n",
       "----------\n",
       "a : array_like\n",
       "    Input array or object that can be converted to an array.\n",
       "axis : None or int or tuple of ints, optional\n",
       "    Axis or axes along which a logical OR reduction is performed.\n",
       "    The default (``axis=None``) is to perform a logical OR over all\n",
       "    the dimensions of the input array. `axis` may be negative, in\n",
       "    which case it counts from the last to the first axis.\n",
       "\n",
       "    .. versionadded:: 1.7.0\n",
       "\n",
       "    If this is a tuple of ints, a reduction is performed on multiple\n",
       "    axes, instead of a single axis or all the axes as before.\n",
       "out : ndarray, optional\n",
       "    Alternate output array in which to place the result.  It must have\n",
       "    the same shape as the expected output and its type is preserved\n",
       "    (e.g., if it is of type float, then it will remain so, returning\n",
       "    1.0 for True and 0.0 for False, regardless of the type of `a`).\n",
       "    See :ref:`ufuncs-output-type` for more details.\n",
       "\n",
       "keepdims : bool, optional\n",
       "    If this is set to True, the axes which are reduced are left\n",
       "    in the result as dimensions with size one. With this option,\n",
       "    the result will broadcast correctly against the input array.\n",
       "\n",
       "    If the default value is passed, then `keepdims` will not be\n",
       "    passed through to the `any` method of sub-classes of\n",
       "    `ndarray`, however any non-default value will be.  If the\n",
       "    sub-class' method does not implement `keepdims` any\n",
       "    exceptions will be raised.\n",
       "\n",
       "where : array_like of bool, optional\n",
       "    Elements to include in checking for any `True` values.\n",
       "    See `~numpy.ufunc.reduce` for details.\n",
       "\n",
       "    .. versionadded:: 1.20.0\n",
       "\n",
       "Returns\n",
       "-------\n",
       "any : bool or ndarray\n",
       "    A new boolean or `ndarray` is returned unless `out` is specified,\n",
       "    in which case a reference to `out` is returned.\n",
       "\n",
       "See Also\n",
       "--------\n",
       "ndarray.any : equivalent method\n",
       "\n",
       "all : Test whether all elements along a given axis evaluate to True.\n",
       "\n",
       "Notes\n",
       "-----\n",
       "Not a Number (NaN), positive infinity and negative infinity evaluate\n",
       "to `True` because these are not equal to zero.\n",
       "\n",
       "Examples\n",
       "--------\n",
       ">>> np.any([[True, False], [True, True]])\n",
       "True\n",
       "\n",
       ">>> np.any([[True, False], [False, False]], axis=0)\n",
       "array([ True, False])\n",
       "\n",
       ">>> np.any([-1, 0, 5])\n",
       "True\n",
       "\n",
       ">>> np.any(np.nan)\n",
       "True\n",
       "\n",
       ">>> np.any([[True, False], [False, False]], where=[[False], [True]])\n",
       "False\n",
       "\n",
       ">>> o=np.array(False)\n",
       ">>> z=np.any([-1, 4, 5], out=o)\n",
       ">>> z, o\n",
       "(array(True), array(True))\n",
       ">>> # Check now that z is a reference to o\n",
       ">>> z is o\n",
       "True\n",
       ">>> id(z), id(o) # identity of z and o              # doctest: +SKIP\n",
       "(191614240, 191614240)\n",
       "\u001b[1;31mClass docstring:\u001b[0m\n",
       "Class to wrap functions with checks for __array_function__ overrides.\n",
       "\n",
       "All arguments are required, and can only be passed by position.\n",
       "\n",
       "Parameters\n",
       "----------\n",
       "dispatcher : function or None\n",
       "    The dispatcher function that returns a single sequence-like object\n",
       "    of all arguments relevant.  It must have the same signature (except\n",
       "    the default values) as the actual implementation.\n",
       "    If ``None``, this is a ``like=`` dispatcher and the\n",
       "    ``_ArrayFunctionDispatcher`` must be called with ``like`` as the\n",
       "    first (additional and positional) argument.\n",
       "implementation : function\n",
       "    Function that implements the operation on NumPy arrays without\n",
       "    overrides.  Arguments passed calling the ``_ArrayFunctionDispatcher``\n",
       "    will be forwarded to this (and the ``dispatcher``) as if using\n",
       "    ``*args, **kwargs``.\n",
       "\n",
       "Attributes\n",
       "----------\n",
       "_implementation : function\n",
       "    The original implementation passed in."
      ]
     },
     "metadata": {},
     "output_type": "display_data"
    }
   ],
   "source": [
    "np.any?"
   ]
  },
  {
   "cell_type": "markdown",
   "id": "50188435-b09d-4873-9a13-2b2e1486fb0d",
   "metadata": {},
   "source": [
    "Write a NumPy program to test whether **any** of the elements in an array is zero. If any of the elements is zero, the result should be `True`."
   ]
  },
  {
   "cell_type": "code",
   "execution_count": 5,
   "id": "e4f9e195-5bc5-4464-aee7-d06844b71c76",
   "metadata": {},
   "outputs": [
    {
     "data": {
      "text/plain": [
       "True"
      ]
     },
     "execution_count": 5,
     "metadata": {},
     "output_type": "execute_result"
    }
   ],
   "source": [
    "# Replace None with your code below to test whether array x has any zero. Should return True.\n",
    "\n",
    "result1 = np.any(x == 0)  # np.any is numpy built in function/method to check if there are any zero in array\n",
    "result1"
   ]
  },
  {
   "cell_type": "markdown",
   "id": "863b4997-2809-44d1-b290-23d2210d3991",
   "metadata": {},
   "source": [
    "*Test your code by running the following cell.*"
   ]
  },
  {
   "cell_type": "code",
   "execution_count": 25,
   "id": "fe8a40a3-d278-4eec-aa76-1e222b3539eb",
   "metadata": {},
   "outputs": [
    {
     "name": "stdout",
     "output_type": "stream",
     "text": [
      "Test Passed\n"
     ]
    }
   ],
   "source": [
    "try:\n",
    "  assert result1 == True\n",
    "  print(\"Test Passed\")\n",
    "except:\n",
    "  print(\"Error: result1 should be True\")"
   ]
  },
  {
   "cell_type": "code",
   "execution_count": 12,
   "id": "e0acd609-a59e-49bb-998f-d64a8c6cf546",
   "metadata": {},
   "outputs": [],
   "source": [
    "#np.any is numpy built in function/method to check if there are any zero in array result1"
   ]
  },
  {
   "cell_type": "code",
   "execution_count": 7,
   "id": "5816cc64-c7ce-4d84-956a-e35f8888a6a4",
   "metadata": {},
   "outputs": [
    {
     "data": {
      "text/plain": [
       "False"
      ]
     },
     "execution_count": 7,
     "metadata": {},
     "output_type": "execute_result"
    }
   ],
   "source": [
    "# Replace None with your code below to test whether array y has any zero. Should return False.\n",
    "result2 = np.any(y == 0)\n",
    "result2"
   ]
  },
  {
   "cell_type": "markdown",
   "id": "975b9041-92b9-4adb-aa39-578f6c0fe35a",
   "metadata": {},
   "source": [
    "Test your code by running the following cell."
   ]
  },
  {
   "cell_type": "code",
   "execution_count": 24,
   "id": "28a1bb9d-656c-44f9-aaad-b728a9b0eb76",
   "metadata": {},
   "outputs": [
    {
     "name": "stdout",
     "output_type": "stream",
     "text": [
      "Test Passed\n"
     ]
    }
   ],
   "source": [
    "try:\n",
    "  assert result2 == False\n",
    "  print(\"Test Passed\")\n",
    "except:\n",
    "  print(\"Error: result2 should be False\")"
   ]
  },
  {
   "cell_type": "code",
   "execution_count": 11,
   "id": "5305956e-2945-4aa9-9750-62f03acd9909",
   "metadata": {},
   "outputs": [],
   "source": [
    "# here we use np.any to find the 0s in array and above code is used for catching any exception that may arise "
   ]
  },
  {
   "cell_type": "markdown",
   "id": "a7719b1a-030f-41bd-9003-2e67e28c4b85",
   "metadata": {},
   "source": [
    "Qn 2  Write a NumPy program to create an array with values 2, 4, 5, -2 and print the size of the memory occupied by the array."
   ]
  },
  {
   "cell_type": "code",
   "execution_count": 13,
   "id": "b40a50c9-d4d0-4c4a-bc99-739f4421dc0e",
   "metadata": {},
   "outputs": [
    {
     "name": "stdout",
     "output_type": "stream",
     "text": [
      "a =  [ 2  4  5 -2]\n",
      "Memory occupied: 16\n"
     ]
    }
   ],
   "source": [
    "import numpy as np  # importing features of numpy library and using np as alias\n",
    "\n",
    "# Replace None with your code below. The result for memory occupied should be 32\n",
    "\n",
    "a = np.array([2,4,5,-2]) # creating an array using numpy's array method\n",
    "print('a = ', a)\n",
    "mem = a.nbytes    # finding the memory occupied by array using pythons inbuilt method .nbytes\n",
    "print('Memory occupied:', mem)"
   ]
  },
  {
   "cell_type": "markdown",
   "id": "f19df215-7267-4681-82d3-2723a6c076ed",
   "metadata": {},
   "source": [
    "*Test your code by running the following cell.*"
   ]
  },
  {
   "cell_type": "code",
   "execution_count": 23,
   "id": "f1110c6d-9575-4b89-bf99-536941a7ca1c",
   "metadata": {},
   "outputs": [
    {
     "name": "stdout",
     "output_type": "stream",
     "text": [
      "Excellent! Well done!\n"
     ]
    }
   ],
   "source": [
    "try:\n",
    "  assert mem == 16\n",
    "  print(\"Excellent! Well done!\")\n",
    "except:\n",
    "  print(\"Error: Please try again\")"
   ]
  },
  {
   "cell_type": "code",
   "execution_count": 18,
   "id": "e7146622-3570-49ed-bca6-bc824cadbab7",
   "metadata": {},
   "outputs": [],
   "source": [
    "# We use numpy library and array() method to construct array for given numbers\n",
    "\n",
    "# .nbytes is pythons inbuilt method to calculate the memory occupied by the variable"
   ]
  },
  {
   "cell_type": "markdown",
   "id": "6187a608-1840-4b6b-8c39-faa51c5c73bf",
   "metadata": {},
   "source": [
    "Qn 3 Create a NumPy array with 20 elements each of 0,1,2,3,4,5. Your array should look like the following. Please do not create the array in a manner such as: np.array([0,0,0,0,0,0,0,0,0,0,0,0,0,0,0,0,0,0,0,0,1,1,1,1,1,1,....])"
   ]
  },
  {
   "cell_type": "code",
   "execution_count": 22,
   "id": "806d0d96-86df-4364-a821-9813757ab4f7",
   "metadata": {},
   "outputs": [
    {
     "data": {
      "text/plain": [
       "array([0, 0, 0, 0, 0, 0, 0, 0, 0, 0, 0, 0, 0, 0, 0, 0, 0, 0, 0, 0, 1, 1,\n",
       "       1, 1, 1, 1, 1, 1, 1, 1, 1, 1, 1, 1, 1, 1, 1, 1, 1, 1, 2, 2, 2, 2,\n",
       "       2, 2, 2, 2, 2, 2, 2, 2, 2, 2, 2, 2, 2, 2, 2, 2, 3, 3, 3, 3, 3, 3,\n",
       "       3, 3, 3, 3, 3, 3, 3, 3, 3, 3, 3, 3, 3, 3, 4, 4, 4, 4, 4, 4, 4, 4,\n",
       "       4, 4, 4, 4, 4, 4, 4, 4, 4, 4, 4, 4, 5, 5, 5, 5, 5, 5, 5, 5, 5, 5,\n",
       "       5, 5, 5, 5, 5, 5, 5, 5, 5, 5])"
      ]
     },
     "execution_count": 22,
     "metadata": {},
     "output_type": "execute_result"
    }
   ],
   "source": [
    "a = np.repeat([0,1,2,3,4,5],20)\n",
    "a"
   ]
  },
  {
   "cell_type": "markdown",
   "id": "e9812ffe-9faa-4c80-ba11-16815c944737",
   "metadata": {},
   "source": [
    "*Test your code by running the following cell.*"
   ]
  },
  {
   "cell_type": "code",
   "execution_count": 27,
   "id": "8cb2efcd-151e-46c0-8c91-4351a7bb46f7",
   "metadata": {},
   "outputs": [
    {
     "name": "stdout",
     "output_type": "stream",
     "text": [
      "Test Passed\n"
     ]
    }
   ],
   "source": [
    "expected = np.array([0, 0, 0, 0, 0, 0, 0, 0, 0, 0, 0, 0, 0, 0, 0, 0, 0, 0, 0, 0, 1, 1,\n",
    "       1, 1, 1, 1, 1, 1, 1, 1, 1, 1, 1, 1, 1, 1, 1, 1, 1, 1, 2, 2, 2, 2,\n",
    "       2, 2, 2, 2, 2, 2, 2, 2, 2, 2, 2, 2, 2, 2, 2, 2, 3, 3, 3, 3, 3, 3,\n",
    "       3, 3, 3, 3, 3, 3, 3, 3, 3, 3, 3, 3, 3, 3, 4, 4, 4, 4, 4, 4, 4, 4,\n",
    "       4, 4, 4, 4, 4, 4, 4, 4, 4, 4, 4, 4, 5, 5, 5, 5, 5, 5, 5, 5, 5, 5,\n",
    "       5, 5, 5, 5, 5, 5, 5, 5, 5, 5])\n",
    "\n",
    "try: \n",
    "  assert np.allclose(a,expected)  # .allclose is is a NumPy function used to check whether all elements of two arrays are approximately equal within a specified tolerance. \n",
    "  print(\"Test Passed\")\n",
    "except:\n",
    "  print(\"Error: Please fix your code and try again.\")\n"
   ]
  },
  {
   "cell_type": "code",
   "execution_count": 28,
   "id": "adf6dde2-ce40-4e25-8dfe-4ba087e763fe",
   "metadata": {},
   "outputs": [],
   "source": [
    "# np.repeat is numpy method used to repeat the numbers of element to the number of size provided\n",
    "\n",
    "# np.allclose is a NumPy function used to check whether all elements of two arrays are approximately equal within a specified tolerance. \n"
   ]
  },
  {
   "cell_type": "markdown",
   "id": "2c3d6f47-58b1-4868-b2e1-f74c77482b3b",
   "metadata": {},
   "source": [
    "Question 4  Create a NumPy array of integers (3x4 array) as shown below, using `arange()` and `reshape()` in one line of code. "
   ]
  },
  {
   "cell_type": "code",
   "execution_count": 32,
   "id": "57cc1c98-8df3-43be-9214-e8d5769b9c7a",
   "metadata": {},
   "outputs": [
    {
     "data": {
      "text/plain": [
       "array([[12, 13, 14, 15],\n",
       "       [16, 17, 18, 19],\n",
       "       [20, 21, 22, 23]])"
      ]
     },
     "execution_count": 32,
     "metadata": {},
     "output_type": "execute_result"
    }
   ],
   "source": [
    "a = np.arange(12,24).reshape(3,4)\n",
    "a"
   ]
  },
  {
   "cell_type": "markdown",
   "id": "9f724a94-a90d-4e85-99b8-af11c76bfb9f",
   "metadata": {},
   "source": [
    "*Test your code by running the following cell.*"
   ]
  },
  {
   "cell_type": "code",
   "execution_count": 34,
   "id": "586a17ca-3afc-4081-8dd1-3c812decfdd3",
   "metadata": {},
   "outputs": [
    {
     "name": "stdout",
     "output_type": "stream",
     "text": [
      "Awesome!\n"
     ]
    }
   ],
   "source": [
    "expected = np.array([[12, 13, 14, 15],\n",
    "       [16, 17, 18, 19],\n",
    "       [20, 21, 22, 23]])\n",
    "try:\n",
    "  assert np.allclose(a, expected)\n",
    "  print(\"Awesome!\")\n",
    "except:\n",
    "  print(\"Error: Try again!\")"
   ]
  },
  {
   "cell_type": "code",
   "execution_count": 35,
   "id": "f6726fe6-e7f7-480e-b405-16c22f2df34c",
   "metadata": {},
   "outputs": [],
   "source": [
    "#np.arange is used to create an array between a range provided\n",
    "\n",
    "# np.reshape is used to transform the shape of matrix , in above case we transformed 1d array to 2d {3*4} array"
   ]
  },
  {
   "cell_type": "markdown",
   "id": "9e55ce73-d1dc-414e-9884-398314e8dc7b",
   "metadata": {},
   "source": [
    "Qn 5 Write a NumPy program to create an array of 1000 random numbers from a normal (gaussian) distribution with mean of 10 and standard deviation of 1.5."
   ]
  },
  {
   "cell_type": "code",
   "execution_count": 40,
   "id": "350cb8e2-c943-4b53-83d9-d3c433ee2579",
   "metadata": {},
   "outputs": [],
   "source": [
    "rng = np.random.default_rng(14)   # Create a random number generator with a specific seed\n",
    "mean = 10\n",
    "standard_deviation = 1.5\n",
    "\n",
    "a = rng.normal(mean, standard_deviation, 1000)   # Generate an array of 1000 random numbers from a normal distribution\n",
    "#a[:10]  # print first 10 numbers of array"
   ]
  },
  {
   "cell_type": "markdown",
   "id": "a5b762c2-d650-450b-a0f9-1913a3e6081d",
   "metadata": {},
   "source": [
    "*Test your code by running the following cell.*"
   ]
  },
  {
   "cell_type": "code",
   "execution_count": 41,
   "id": "249fe1de-886b-4b9f-a701-549fda2da1fe",
   "metadata": {},
   "outputs": [
    {
     "name": "stdout",
     "output_type": "stream",
     "text": [
      "All good!\n"
     ]
    }
   ],
   "source": [
    "expected = np.array([11.04327966,  8.53078875,  7.6397645 ,  5.61254414,  9.47015175,\n",
    "       11.87140956, 10.04960894, 10.76776604, 11.53485732,  8.67678123,\n",
    "       13.97843005,  8.68463762, 10.56032959, 14.10937123,  9.82862138,\n",
    "       10.17144177,  9.23218068, 10.50178973,  6.80997446,  9.02978686,\n",
    "       12.5411398 , 10.3169892 ,  9.63940222, 10.55939273, 10.62191022,\n",
    "       10.2281549 , 10.8678818 ,  7.5106048 , 10.88688292,  8.98970984,\n",
    "       11.17870396,  9.96812995,  8.50272574,  9.89180351,  8.48937978,\n",
    "       11.51909763,  9.95710261, 11.27963757,  8.3274159 , 12.42912601,\n",
    "        9.54840804, 12.04789876, 11.28107702,  8.3485823 , 10.48473173,\n",
    "        9.18632451, 10.61404673, 12.14871783, 11.03300625, 11.60190383,\n",
    "        8.24264573, 10.30591779, 10.53860766, 11.63334656,  9.07086501,\n",
    "       10.85317914, 10.64420696,  7.71352244,  8.44041496, 10.66700621,\n",
    "        8.23514798,  8.15962544, 11.34286003, 10.42834943,  9.64726564,\n",
    "       10.15824039,  9.39321126,  9.1946059 ,  9.30911735, 10.57909286,\n",
    "       11.98195553,  9.29386471,  9.89701408,  9.67258285,  8.10995836,\n",
    "       10.37791209, 11.30014808,  8.73447253, 11.24964604,  9.1424986 ,\n",
    "       11.72695076, 11.82379838,  9.42539052,  6.99858964,  9.47801725,\n",
    "        7.91318844,  8.0279189 ,  9.62075944, 12.04067491,  9.86184021,\n",
    "        9.67062979,  7.22425098,  9.09081331,  7.90737524, 10.78049162,\n",
    "        9.20763162,  9.93413594,  9.97493736,  9.71833776, 11.42885171,\n",
    "       10.73018869,  9.52055909, 10.23063867, 10.82916284, 12.05701785,\n",
    "       10.19474204, 12.17142841,  9.10873673,  9.64925244,  7.76919267,\n",
    "       11.23284388,  8.45108713,  8.45130431, 11.26314111,  9.20101202,\n",
    "        8.87032789, 11.4295685 ,  9.72354957, 11.38050773,  9.39597614,\n",
    "       11.08999883, 11.61781167, 10.1234378 , 12.69849885,  9.4057892 ,\n",
    "        9.68240452, 10.11905649, 11.50828074,  9.56860963,  9.34511278,\n",
    "       10.38060604, 11.87477081,  9.37515185,  8.08352162,  9.80372291,\n",
    "       10.9356447 ,  9.18581219, 10.1863707 ,  7.19651937, 10.03191647,\n",
    "       10.15410694, 10.93374792, 10.46391145, 11.15766642,  8.50843658,\n",
    "       10.99043298,  7.52311455,  9.10471873, 11.65878617, 11.27677507,\n",
    "        7.22047902, 10.88262649,  9.35379657,  8.8331182 , 10.30667981,\n",
    "       10.19336215, 12.09148326,  7.83703672,  9.35743576,  9.78618219,\n",
    "        7.23905299, 11.75964113, 12.63412883,  9.06232015, 10.57232986,\n",
    "        9.59634057, 10.40560184,  8.98671343, 11.24733064,  8.25158523,\n",
    "       12.04508349, 10.5345418 , 13.63710758,  7.523035  ,  9.85672214,\n",
    "        8.07167495,  9.79011382, 10.65267131,  8.62072862,  7.84738413,\n",
    "        7.39934811, 10.33127934, 11.9150362 , 11.75782321, 10.0506304 ,\n",
    "        8.55750193,  9.45505461,  7.73816393,  7.63548059, 11.59891674,\n",
    "        9.58277683, 10.47166228,  9.58974148, 11.9873806 , 12.15628839,\n",
    "        8.83576339,  9.45085931,  8.98717176, 11.97664119, 11.86990248,\n",
    "        9.56456826, 13.44908909, 10.03961108,  8.17609889,  6.95001136,\n",
    "        9.7843749 , 10.48198001,  9.12009473, 10.54464329, 11.79262702,\n",
    "        9.91026469, 11.26434119, 12.49686263, 10.74657389,  9.12914604,\n",
    "       10.64770616, 10.80503649, 13.20617929,  9.3481466 ,  7.67442523,\n",
    "       10.44820307, 10.48869122,  9.37648139, 10.84709139, 10.47733596,\n",
    "       11.81651426,  8.7473351 ,  8.94632661,  9.9661529 ,  9.23831943,\n",
    "       11.90662884, 10.86868168,  9.96667211, 12.2915832 , 10.75238344,\n",
    "       11.4992351 , 11.20752156,  9.77888269,  9.78952217, 10.01103429,\n",
    "        8.3636225 ,  9.48260099, 11.28141367, 10.46459246,  8.58429556,\n",
    "       13.54517621,  8.45473527, 10.93389631, 11.0880786 , 11.91588428,\n",
    "        8.71087513, 10.03746742,  9.71402305, 11.7217349 , 10.58742881,\n",
    "       10.64165759, 10.82771873, 12.96341275, 11.03848156, 11.35401544,\n",
    "        8.64005097, 11.08477978,  8.17590086, 11.47338879, 10.28471631,\n",
    "        8.74097616,  8.35053153,  9.93766612, 10.26584971,  9.24134424,\n",
    "        9.59504025,  9.63132696,  9.30028224,  9.81233835, 10.50785997,\n",
    "       12.0513601 , 11.0692875 ,  9.26658094, 12.54824836, 11.90098869,\n",
    "        9.74961152, 11.66431847,  9.34278527,  9.01531237,  9.06810348,\n",
    "       12.58181445, 10.36678068, 10.63525507, 10.2657162 ,  9.56522369,\n",
    "       10.89982453, 11.19334755, 13.12287383,  8.91517615, 12.48721806,\n",
    "       11.19493085,  7.61002083, 11.66120943, 12.62369608, 11.84499086,\n",
    "       10.57533835, 10.4497206 ,  7.24001563, 10.69317168, 10.48078914,\n",
    "        8.81583794, 10.50679313,  9.21559613, 13.58525861,  8.37420163,\n",
    "        8.84332048,  6.9461839 ,  9.57265334, 10.33273976, 10.16538644,\n",
    "        9.18181902, 11.44837891, 10.4882263 , 11.90764104,  9.95589234,\n",
    "        7.48336152,  9.89652596,  8.59632587, 11.34508351,  9.18927737,\n",
    "        9.72616507, 10.05895712,  7.80172011,  9.49486793, 11.37744003,\n",
    "        9.21061524,  9.81227929, 10.30351504,  9.0424219 ,  9.60757569,\n",
    "       10.70229785,  9.47477979, 10.11839898,  9.82276628,  8.46666735,\n",
    "        8.09137261, 12.99495014, 12.09073831,  9.84495548, 11.44653795,\n",
    "       11.68075649, 11.46322827,  9.47893644,  7.87760482,  8.13633355,\n",
    "        9.66671569, 12.04515309, 12.36230051,  9.66910446,  9.52951178,\n",
    "       11.83051438, 13.1143748 ,  8.64951703, 10.73700141, 10.25217788,\n",
    "        9.55562269,  9.56072513,  9.53974172, 10.03228311,  7.73616056,\n",
    "       10.03695478, 11.21881254, 11.17118055, 11.22722531, 10.53808305,\n",
    "       10.33501572, 12.95522622,  9.7797048 , 10.28683772, 11.91297457,\n",
    "       10.10558404,  8.11381667,  9.22339453,  9.40307241,  9.81598827,\n",
    "        9.37447972, 11.53011643, 11.10546666, 10.77509599,  9.45056345,\n",
    "       11.58472619, 11.53330064, 13.327928  ,  9.14791322,  9.89591712,\n",
    "       12.12681602,  8.44573278, 10.45910011, 10.39392822, 10.14857358,\n",
    "        8.65604855, 10.12704818,  7.84766167, 11.84654425,  9.33840211,\n",
    "       10.29693091, 10.03939839, 10.3398071 , 10.24112996, 10.68584011,\n",
    "        9.50967593, 10.09684918,  8.39343054,  8.48483443,  8.77378797,\n",
    "        8.53220841,  7.99066815,  9.0997414 , 10.97034475, 10.6494088 ,\n",
    "        9.41143526, 10.50223651, 10.5797829 , 14.0247208 ,  7.66545677,\n",
    "       10.41076381,  8.08461418, 11.91447203,  9.72106523, 10.70566176,\n",
    "       10.34813442, 11.09057534,  5.70393062,  8.33053277, 10.17671391,\n",
    "        8.07455483, 10.8776655 , 11.8941923 ,  8.12514363,  9.41664145,\n",
    "       10.99370994, 12.76278645, 11.56279098, 11.1437984 ,  8.75891331,\n",
    "       10.10318206, 10.24810661,  9.15788566, 10.6757746 ,  9.59403162,\n",
    "        9.39937589, 13.22795488,  9.80806566, 12.84579595,  9.48107406,\n",
    "        9.93952444,  8.19402447,  9.18937673, 12.40683583, 10.06390463,\n",
    "        7.05982217, 12.15434363,  8.698991  ,  9.39504197,  9.95839444,\n",
    "        7.2108372 , 12.31628692, 11.93043935,  9.51558585, 10.53657265,\n",
    "        9.57742718,  9.11564775,  9.65468527,  7.85143178,  9.39517789,\n",
    "        9.16497921, 12.85522174,  7.81390537, 11.88694735, 11.06703585,\n",
    "       10.22116409,  9.10222867, 12.69748996, 12.17585406,  9.93560865,\n",
    "        9.70508251, 10.28164622, 12.72545   ,  8.64303351, 10.1241129 ,\n",
    "       11.69722613,  7.92570429,  9.87758637, 11.66428781,  9.34720225,\n",
    "        9.83300638,  7.69005914, 10.56790433,  8.24010591,  9.41749504,\n",
    "       10.50318641,  9.16432708, 11.29734735, 11.06626724, 10.7216707 ,\n",
    "       11.46569699,  9.75322512,  6.77739337, 11.28498047, 11.15409589,\n",
    "        9.28956088,  8.74493197, 11.72376809,  9.28881899,  9.41952751,\n",
    "        9.32527508, 13.47837042,  8.91236417,  6.10954999,  9.78935826,\n",
    "        8.38554539,  7.29910992, 10.07493693,  9.07291451, 11.16710054,\n",
    "        9.3509938 , 11.6074026 , 11.30366908,  9.87455664, 10.98225713,\n",
    "       12.52620499, 10.85497383,  7.69575934,  9.94535807, 10.13402384,\n",
    "       11.68711811,  9.63592436, 11.50473783,  9.63792392,  9.86831275,\n",
    "        9.4749445 ,  9.83922171,  9.6044156 , 10.32320363,  8.6795851 ,\n",
    "        8.25722764,  9.67850659, 10.02450873,  9.20007074, 10.39419605,\n",
    "       10.289273  , 12.29763818,  7.61649622, 12.7259743 ,  6.29032206,\n",
    "        7.12801578, 10.13836899,  8.31469546,  9.27110435,  9.04822925,\n",
    "        7.75495165,  7.65850414,  9.1140515 , 10.21296178, 10.57439875,\n",
    "        9.93118792,  9.19251935, 11.45077685,  6.43341859,  9.7180169 ,\n",
    "       11.56314611, 12.07427103, 11.46906062, 11.68684325, 11.22728989,\n",
    "        9.89377046,  6.37402463,  8.95136125,  9.29823847, 12.06068966,\n",
    "        9.07527991,  9.19300781, 10.70102672,  8.28404603,  9.77964877,\n",
    "       10.55552232,  9.25346594,  9.6451463 ,  7.09328749,  7.8865108 ,\n",
    "        9.35705626, 11.43244495,  8.87653562,  8.35354723,  8.53310601,\n",
    "       10.70212104,  7.59747356,  9.96983503,  9.18154615,  9.82519424,\n",
    "        8.61022327,  9.85663423, 11.74981739,  9.3008404 ,  8.99446344,\n",
    "        5.90525229, 10.43854891,  8.77155542, 10.30346577,  9.89903679,\n",
    "        8.55606464,  8.77657474,  7.735094  , 12.71172169, 11.13365126,\n",
    "       10.9917024 , 11.5420681 , 11.83583251, 11.05387703, 11.30862867,\n",
    "       13.48233036,  7.23999629, 10.10091591,  8.88561517,  9.90683471,\n",
    "        6.06722193,  8.21993308, 11.0463585 ,  7.96516757, 10.66936344,\n",
    "        8.61182694,  9.60133795,  7.59756896,  8.9388599 ,  7.61072495,\n",
    "       10.68616631,  7.27196563, 10.36672491,  9.06907724,  9.64195369,\n",
    "       12.03866321,  9.52627393,  8.96254845,  9.94353294, 10.97524487,\n",
    "        9.12270333, 12.4862156 , 10.21326437,  9.4240951 ,  8.98764014,\n",
    "        9.74483746, 10.81743615, 11.55909618, 10.10219353,  9.11647003,\n",
    "        9.9314679 ,  6.85878348, 11.67102428, 11.25363085,  9.72839784,\n",
    "       11.07441305,  8.5666992 , 12.75467757,  9.8978937 ,  9.48471115,\n",
    "       13.31245289,  8.84083463, 10.9421169 ,  9.09412453,  9.56152046,\n",
    "        9.96187375,  9.53090215, 12.58605993, 12.04609291,  9.56601623,\n",
    "       13.97958263, 10.35396173, 10.151769  , 11.01617386,  8.87372847,\n",
    "       12.41857884,  9.04734699,  8.52081215, 11.96904777,  9.00193483,\n",
    "        9.97921308,  8.53685936,  9.66259365, 10.46184565,  6.71384999,\n",
    "       10.1641803 ,  9.05815428, 12.33579402, 13.25806617, 11.01460691,\n",
    "       11.10293571, 11.78765032, 11.79211192,  8.05996137,  8.21708823,\n",
    "        9.43419589,  8.07502967,  9.63419823, 10.27298958,  8.91590426,\n",
    "       10.79375505, 12.23888907, 10.16147498, 10.72717908, 10.02620283,\n",
    "        9.95342584,  9.30248019,  8.39127431, 10.89628812, 11.67068424,\n",
    "        9.98418752, 10.19788237,  8.00368379,  9.68118362, 10.48208858,\n",
    "        9.88270987, 10.10818217,  8.52800346,  8.12636019,  9.63946516,\n",
    "       12.21598864,  9.4371622 ,  7.780853  ,  9.02319152,  9.68882295,\n",
    "       11.78943925, 11.59437596,  8.80551991,  8.4982951 ,  9.60975724,\n",
    "        9.97171595,  8.50566284, 11.40447007,  9.32808754, 10.34658024,\n",
    "        9.68130502, 10.72753553,  9.7947671 , 10.32975261, 11.78336216,\n",
    "       10.30546694, 12.09655735,  8.08332074,  9.66241415,  8.4056333 ,\n",
    "        7.84184546,  9.87905372, 12.75190465, 10.29404102, 11.41528089,\n",
    "        7.10083156, 10.2677987 ,  8.22142911, 10.25049369, 11.42988586,\n",
    "        9.19154691, 11.49949839,  8.72771808, 10.03387791,  8.93506316,\n",
    "        9.98409865,  9.61800205,  6.5977869 ,  9.30278623,  9.09315119,\n",
    "       12.31430229,  6.12622746,  9.93203186, 11.02224438, 12.61877274,\n",
    "       11.73536017,  9.74067052, 11.95000762,  9.61858365,  9.53038113,\n",
    "        9.30026905,  9.24806454, 12.0567843 ,  7.37129318,  7.5013398 ,\n",
    "       11.19038688, 10.47184126, 11.04324364,  9.39433404, 10.74585506,\n",
    "        9.40120657,  8.99668781,  9.09667219,  9.94157325,  9.83440895,\n",
    "        9.14315391, 12.06794744, 10.38340448,  9.20298081,  7.77011265,\n",
    "        9.59666861,  7.29189277,  8.37925076,  7.9917469 ,  8.37025654,\n",
    "        9.93759185,  4.86270712, 11.80242047, 10.27573732,  8.9627916 ,\n",
    "        8.69305456, 10.67038593,  9.42608439, 12.16852972,  9.372279  ,\n",
    "        8.20983446,  7.47241642,  9.44063075, 11.11653288,  7.77569321,\n",
    "       11.46697535, 10.83217718,  9.12177007, 11.49353374,  6.99916259,\n",
    "        6.34381795, 10.00164294, 10.21566921, 10.15102992,  9.53195173,\n",
    "        7.41443787, 10.411925  ,  9.06453651, 10.90146295,  9.9190709 ,\n",
    "        7.87473751, 10.50834149, 10.80252053, 10.79196011,  8.55848588,\n",
    "        8.06144261, 10.79656642,  9.52426462,  9.43976776, 11.10613286,\n",
    "       11.18780802, 10.37513402,  9.29597118, 11.86381591,  8.07821371,\n",
    "        9.62051219, 10.10895525,  7.57051824,  8.55578029, 10.93609502,\n",
    "        9.506878  ,  8.04994903, 12.12251358,  9.91604629,  9.79606782,\n",
    "       12.37687334,  7.44124951,  8.84468603,  8.2759466 , 11.62452402,\n",
    "        8.4290903 , 13.17849986, 10.3707704 , 10.11520331, 11.12228299,\n",
    "        9.33490631,  8.30189963,  8.75203301,  9.69670708,  8.19150759,\n",
    "        9.85611957,  8.70318509,  9.34172559,  9.54071671, 12.03655302,\n",
    "       13.12309761, 12.50962704,  9.57254115,  8.80222285, 11.45526331,\n",
    "       11.89361625, 11.3341534 ,  9.06333113, 10.43103703,  9.57710714,\n",
    "       11.53724277, 11.38402827, 10.33301652,  9.38816864, 12.63610569,\n",
    "       10.3107045 , 11.26881244, 10.87393246, 11.2272393 , 11.80960379,\n",
    "        9.5426394 ,  9.39740564, 10.98456333,  5.25235746,  9.96719386,\n",
    "        9.35287054, 11.1607986 , 10.58195575,  9.78587018,  8.32656843,\n",
    "        9.80899083,  9.59120334, 10.16725278, 10.39368875,  9.00305244,\n",
    "       10.84483714,  9.26173322, 10.67320958, 10.47456763, 11.92837668,\n",
    "       10.0315096 , 12.44306727,  9.50970685,  8.73267619, 11.00443464,\n",
    "        8.1861288 , 10.58809951, 10.61348448, 10.31187017, 10.64219894,\n",
    "       10.33674647, 11.9486813 ,  9.85439637,  7.11673033,  9.4932836 ,\n",
    "       11.28921405, 11.52358988, 11.06160188, 10.09393119,  8.66295423,\n",
    "       12.37712117,  9.1718811 ,  8.3973185 ,  6.40490383, 12.87746592,\n",
    "       10.01225715,  7.25567072, 11.30989687, 11.00724897,  7.50659643,\n",
    "       11.17812313, 10.03699176, 11.0181331 , 12.05114706,  9.37641586,\n",
    "       13.25948813,  9.8422233 ,  9.10703741, 11.76305901,  8.99049639,\n",
    "        9.46572746, 11.21168462,  8.64823467,  7.93721029, 10.36156745,\n",
    "        9.89917194,  9.05823604, 11.30325526,  8.1113937 , 11.00046867,\n",
    "        8.26347242, 10.56104349,  8.02575453, 10.80482828,  9.73757306,\n",
    "        9.18405275,  9.9088594 ,  9.58454617, 11.02295415,  8.79009631,\n",
    "       10.41826728,  9.29787026,  8.83723177,  8.99237414,  8.09350667,\n",
    "       10.22198403,  9.86603942, 10.25448393,  7.32309738,  9.04882754,\n",
    "       11.94138647, 11.51760047,  9.53513373,  9.73413689, 10.01346634,\n",
    "       11.31654677, 11.9301214 , 10.19855097, 10.14414755,  9.74982335,\n",
    "       10.28121167, 12.43021592,  8.82065137, 10.76358637,  8.10088626])\n",
    "\n",
    "try:\n",
    "  assert np.allclose(a, expected)\n",
    "  print(\"All good!\")\n",
    "except:\n",
    "  print(\"Error: Please try again!\")"
   ]
  },
  {
   "cell_type": "code",
   "execution_count": 42,
   "id": "ff5700bc-4f98-41f3-bd8c-7146c0c11421",
   "metadata": {},
   "outputs": [],
   "source": [
    "# rng = np.random.default_rng(14)      # Create a random number generator with a specific seed\n",
    "\n",
    "# a = rng.normal(mean, standard_deviation, 1000)     # # Generate an array of 1000 random numbers from a normal distribution"
   ]
  },
  {
   "cell_type": "markdown",
   "id": "d7c7ddbd-decb-4010-8287-90bf925d09d5",
   "metadata": {},
   "source": [
    "Qn 6 Plot the histogram of the above array(from Qn 5).\n",
    "The histogram follows a bell curve(normal distribution."
   ]
  },
  {
   "cell_type": "code",
   "execution_count": 44,
   "id": "c6a090bd-3130-4ca4-bf5b-f66662e2b6c4",
   "metadata": {},
   "outputs": [
    {
     "data": {
      "text/plain": [
       "(array([  4.,  10.,  43., 112., 195., 266., 183., 127.,  44.,  16.]),\n",
       " array([ 4.86270712,  5.78737353,  6.71203994,  7.63670635,  8.56137276,\n",
       "         9.48603917, 10.41070558, 11.33537199, 12.26003841, 13.18470482,\n",
       "        14.10937123]),\n",
       " <BarContainer object of 10 artists>)"
      ]
     },
     "execution_count": 44,
     "metadata": {},
     "output_type": "execute_result"
    },
    {
     "data": {
      "image/png": "[encoded data removed]",
      "text/plain": [
       "<Figure size 640x480 with 1 Axes>"
      ]
     },
     "metadata": {},
     "output_type": "display_data"
    }
   ],
   "source": [
    "import matplotlib.pyplot as plt\n",
    "\n",
    "plt.hist(a, alpha = 0.7)"
   ]
  },
  {
   "cell_type": "code",
   "execution_count": 45,
   "id": "2a3c9059-16c1-4ca3-8040-0fd0253f3e4c",
   "metadata": {},
   "outputs": [],
   "source": [
    "# Import the 'pyplot' module from the 'matplotlib' library, giving it the alias 'plt'\n",
    "\n",
    "# Create a histogram of the data array 'a' with a transparency level of 0.7"
   ]
  },
  {
   "cell_type": "markdown",
   "id": "388ae43a-ba62-41db-bb41-58a136ff72cc",
   "metadata": {},
   "source": [
    "Qn 7 Write a NumPy program to create a column vector (10x1 array) of length 10 with values evenly distributed between 5 and 30 in one line of code."
   ]
  },
  {
   "cell_type": "code",
   "execution_count": 46,
   "id": "57ccce1b-0003-450a-88d9-64e99c5368ec",
   "metadata": {},
   "outputs": [
    {
     "name": "stdout",
     "output_type": "stream",
     "text": [
      "[[ 5.        ]\n",
      " [ 7.77777778]\n",
      " [10.55555556]\n",
      " [13.33333333]\n",
      " [16.11111111]\n",
      " [18.88888889]\n",
      " [21.66666667]\n",
      " [24.44444444]\n",
      " [27.22222222]\n",
      " [30.        ]]\n"
     ]
    },
    {
     "data": {
      "text/plain": [
       "numpy.ndarray"
      ]
     },
     "execution_count": 46,
     "metadata": {},
     "output_type": "execute_result"
    }
   ],
   "source": [
    "a = np.linspace(5, 30, 10)\n",
    "a = a.reshape(10, 1)\n",
    "print(a)\n",
    "type(a)"
   ]
  },
  {
   "cell_type": "code",
   "execution_count": 47,
   "id": "e9f36c63-e053-4623-b2a0-cd083581ac79",
   "metadata": {},
   "outputs": [],
   "source": [
    "#Test your code by running the following cell"
   ]
  },
  {
   "cell_type": "code",
   "execution_count": 48,
   "id": "c71e0b4e-9433-46a6-be72-f193ed759175",
   "metadata": {},
   "outputs": [
    {
     "name": "stdout",
     "output_type": "stream",
     "text": [
      "Cool!\n"
     ]
    }
   ],
   "source": [
    "expected = np.array([[ 5.        ],\n",
    "       [ 7.77777778],\n",
    "       [10.55555556],\n",
    "       [13.33333333],\n",
    "       [16.11111111],\n",
    "       [18.88888889],\n",
    "       [21.66666667],\n",
    "       [24.44444444],\n",
    "       [27.22222222],\n",
    "       [30.        ]])\n",
    "try:\n",
    "  assert np.allclose(a, expected)\n",
    "  print(\"Cool!\")\n",
    "except:\n",
    "  print(\"Error: Please try again!\")\n"
   ]
  },
  {
   "cell_type": "code",
   "execution_count": 49,
   "id": "ead2813c-16a3-43bc-8e08-ff475841b53b",
   "metadata": {},
   "outputs": [],
   "source": [
    "# linspace is numpy method to create an array with equal interval among elements\n",
    "\n",
    "# reshape method is used to change the dimension of array"
   ]
  },
  {
   "cell_type": "markdown",
   "id": "ae4a0b86-ce43-4b92-b20b-4269959e60db",
   "metadata": {},
   "source": [
    "Qn 8 Write a NumPy program to create a multiplication table from 3 to 8 using the outer() function."
   ]
  },
  {
   "cell_type": "code",
   "execution_count": 50,
   "id": "820a6f4f-ea89-4b25-8132-da14f2f95cb8",
   "metadata": {},
   "outputs": [
    {
     "name": "stdout",
     "output_type": "stream",
     "text": [
      "[[ 9 12 15 18 21 24]\n",
      " [12 16 20 24 28 32]\n",
      " [15 20 25 30 35 40]\n",
      " [18 24 30 36 42 48]\n",
      " [21 28 35 42 49 56]\n",
      " [24 32 40 48 56 64]]\n"
     ]
    }
   ],
   "source": [
    "# Create arrays for the numbers in the range\n",
    "numbers = np.arange(3, 9)\n",
    "\n",
    "a = np.outer(numbers, numbers)\n",
    "print(a)"
   ]
  },
  {
   "cell_type": "code",
   "execution_count": 53,
   "id": "80ce077d-0e22-46ac-a37d-506829fa5070",
   "metadata": {},
   "outputs": [],
   "source": [
    "#Test your code by running the following cell."
   ]
  },
  {
   "cell_type": "code",
   "execution_count": 54,
   "id": "1a51f06f-cf05-4e2b-9434-429d21a30cc4",
   "metadata": {},
   "outputs": [
    {
     "name": "stdout",
     "output_type": "stream",
     "text": [
      "Great job! Keep it up!\n"
     ]
    }
   ],
   "source": [
    "expected = np.array([[ 9, 12, 15, 18, 21, 24],\n",
    "       [12, 16, 20, 24, 28, 32],\n",
    "       [15, 20, 25, 30, 35, 40],\n",
    "       [18, 24, 30, 36, 42, 48],\n",
    "       [21, 28, 35, 42, 49, 56],\n",
    "       [24, 32, 40, 48, 56, 64]])\n",
    "try:\n",
    "  assert np.allclose(a, expected)\n",
    "  print(\"Great job! Keep it up!\")\n",
    "except:\n",
    "  print(\"Error: Please try again!\")\n"
   ]
  },
  {
   "cell_type": "code",
   "execution_count": 56,
   "id": "89b7d4cb-2b3b-41ae-a2db-61ec953559c9",
   "metadata": {},
   "outputs": [],
   "source": [
    "# The outer() function computes the outer product of two arrays, \n",
    "# resulting in a matrix where each element is the product of the corresponding elements from the input arrays."
   ]
  },
  {
   "cell_type": "markdown",
   "id": "9988b5e5-ccec-40d9-8668-09cfd639e0fb",
   "metadata": {},
   "source": [
    "Qn 9    Given the following array, standardize each column.\n",
    "\n",
    "To standardize a random variable 𝑋, subtract its mean and divide by its standard deviation. \n",
    "\n",
    "X_std = (𝑋−𝜇)/𝜎 \n",
    "\n",
    "X_std will have mean 0 and standard deviation 1.\n",
    "\n",
    "X = Column of data<br>\n",
    "𝜇 = Mean<br>\n",
    "𝜎 = Standard Deviation"
   ]
  },
  {
   "cell_type": "code",
   "execution_count": 57,
   "id": "9d719beb-f369-4e71-8d80-63d49310b1b2",
   "metadata": {},
   "outputs": [
    {
     "name": "stdout",
     "output_type": "stream",
     "text": [
      "x =\n",
      " [[0.5488135  0.71518937 0.60276338]\n",
      " [0.54488318 0.4236548  0.64589411]\n",
      " [0.43758721 0.891773   0.96366276]\n",
      " [0.38344152 0.79172504 0.52889492]\n",
      " [0.56804456 0.92559664 0.07103606]\n",
      " [0.0871293  0.0202184  0.83261985]\n",
      " [0.77815675 0.87001215 0.97861834]\n",
      " [0.79915856 0.46147936 0.78052918]\n",
      " [0.11827443 0.63992102 0.14335329]\n",
      " [0.94466892 0.52184832 0.41466194]]\n"
     ]
    }
   ],
   "source": [
    "import numpy as np\n",
    "# standardize each column of this array\n",
    "np.random.seed(0)\n",
    "x = np.random.random((10, 3))\n",
    "print('x =\\n', x)"
   ]
  },
  {
   "cell_type": "code",
   "execution_count": 59,
   "id": "db526f3a-76e1-41df-ac18-6e2a3916fe5e",
   "metadata": {},
   "outputs": [
    {
     "data": {
      "text/plain": [
       "array([0.52101579, 0.62614181, 0.59620338])"
      ]
     },
     "execution_count": 59,
     "metadata": {},
     "output_type": "execute_result"
    }
   ],
   "source": [
    "# Replace None with your code below to find the mean of each column as an array. \n",
    "cols_mean = np.mean(x, axis=0)\n",
    "cols_mean"
   ]
  },
  {
   "cell_type": "code",
   "execution_count": 60,
   "id": "db91a2f4-44ad-405f-bc6c-02fa2300f552",
   "metadata": {},
   "outputs": [],
   "source": [
    "# Test your code"
   ]
  },
  {
   "cell_type": "code",
   "execution_count": 61,
   "id": "cc20d397-aec4-4ef8-aeee-469c03a95242",
   "metadata": {},
   "outputs": [
    {
     "name": "stdout",
     "output_type": "stream",
     "text": [
      "All good!\n"
     ]
    }
   ],
   "source": [
    "expected = [0.52101579, 0.62614181, 0.59620338]\n",
    "try:\n",
    "  assert np.allclose(cols_mean, expected)\n",
    "  print('All good!')\n",
    "except:\n",
    "  print(\"Error: Please try again! You can do it!\")"
   ]
  },
  {
   "cell_type": "code",
   "execution_count": 62,
   "id": "0e6a3327-372d-427c-97da-4306462f8403",
   "metadata": {},
   "outputs": [],
   "source": [
    "# cols_mean = np.mean(x, axis=0)  here mean() method is used to calculate mean and axis = 0 helps to calculate value for every columns\n"
   ]
  },
  {
   "cell_type": "code",
   "execution_count": 63,
   "id": "5c92e175-ca50-4e65-9a79-0601f2eb7bf6",
   "metadata": {},
   "outputs": [
    {
     "data": {
      "text/plain": [
       "array([0.2651162 , 0.26483543, 0.2986654 ])"
      ]
     },
     "execution_count": 63,
     "metadata": {},
     "output_type": "execute_result"
    }
   ],
   "source": [
    "# Write your code below to find the standard deviation of each column of x as an array. \n",
    "\n",
    "cols_std = np.std(x, axis=0)\n",
    "cols_std"
   ]
  },
  {
   "cell_type": "code",
   "execution_count": 64,
   "id": "4c5b0d34-32db-435f-ab20-720beb455598",
   "metadata": {},
   "outputs": [],
   "source": [
    "#TEst your code"
   ]
  },
  {
   "cell_type": "code",
   "execution_count": 65,
   "id": "6b4ccac2-1c57-44a8-b516-ed439ee0858a",
   "metadata": {},
   "outputs": [
    {
     "name": "stdout",
     "output_type": "stream",
     "text": [
      "Very good!\n"
     ]
    }
   ],
   "source": [
    "expected = [0.2651162, 0.26483543, 0.2986654 ]\n",
    "try:\n",
    "  assert np.allclose(cols_std, expected)\n",
    "  print('Very good!')\n",
    "except:\n",
    "  print(\"Error: Please try again! You can do it!\")"
   ]
  },
  {
   "cell_type": "code",
   "execution_count": 66,
   "id": "4459996d-9250-4701-a79b-8c8f7c6eb00a",
   "metadata": {},
   "outputs": [],
   "source": [
    "# std() is numpys function to calculate mean and axis=0 for column based finding\n"
   ]
  },
  {
   "cell_type": "code",
   "execution_count": 67,
   "id": "8d41677d-6bea-45e6-a366-fd7ae91c235d",
   "metadata": {},
   "outputs": [
    {
     "data": {
      "text/plain": [
       "array([[ 0.10485104,  0.33623733,  0.02196436],\n",
       "       [ 0.09002614, -0.76457675,  0.16637592],\n",
       "       [-0.31468685,  1.00300475,  1.23033797],\n",
       "       [-0.51892066,  0.62523066, -0.22536411],\n",
       "       [ 0.17738926,  1.13072044, -1.75838021],\n",
       "       [-1.63658987, -2.28792432,  0.79157635],\n",
       "       [ 0.96991792,  0.9208373 ,  1.28041268],\n",
       "       [ 1.04913531, -0.62175385,  0.61716488],\n",
       "       [-1.5191126 ,  0.05202934, -1.5162456 ],\n",
       "       [ 1.5979903 , -0.3938049 , -0.60784223]])"
      ]
     },
     "execution_count": 67,
     "metadata": {},
     "output_type": "execute_result"
    }
   ],
   "source": [
    "# Replace None with your code below for standardization.\n",
    "X_standardized = (x - cols_mean) / cols_std\n",
    "X_standardized"
   ]
  },
  {
   "cell_type": "code",
   "execution_count": 68,
   "id": "d1ba8664-ac8b-4ac2-832b-8763c3329b9b",
   "metadata": {},
   "outputs": [],
   "source": [
    "#Test your code"
   ]
  },
  {
   "cell_type": "code",
   "execution_count": 69,
   "id": "cd0382a8-3048-4049-b83e-6971aaa8b74f",
   "metadata": {},
   "outputs": [
    {
     "name": "stdout",
     "output_type": "stream",
     "text": [
      "You are good!\n"
     ]
    }
   ],
   "source": [
    "expected = np.array([[ 0.10485104,  0.33623733,  0.02196436],\n",
    "       [ 0.09002614, -0.76457675,  0.16637592],\n",
    "       [-0.31468685,  1.00300475,  1.23033797],\n",
    "       [-0.51892066,  0.62523066, -0.22536411],\n",
    "       [ 0.17738926,  1.13072044, -1.75838021],\n",
    "       [-1.63658987, -2.28792432,  0.79157635],\n",
    "       [ 0.96991792,  0.9208373 ,  1.28041268],\n",
    "       [ 1.04913531, -0.62175385,  0.61716488],\n",
    "       [-1.5191126 ,  0.05202934, -1.5162456 ],\n",
    "       [ 1.5979903 , -0.3938049 , -0.60784223]])\n",
    "try:\n",
    "  assert np.allclose(X_standardized, expected)\n",
    "  print(\"You are good!\")\n",
    "except:\n",
    "  print(\"Error: Please try again!\")"
   ]
  },
  {
   "cell_type": "code",
   "execution_count": 70,
   "id": "8980eee9-e159-4378-8a40-66c78494d8d3",
   "metadata": {},
   "outputs": [],
   "source": [
    "# X_standardized = (x - cols_mean) / cols_std    # implementing the formula \n"
   ]
  },
  {
   "cell_type": "code",
   "execution_count": 71,
   "id": "5bda3b0f-78e6-4f3b-88a9-29884e7218d7",
   "metadata": {},
   "outputs": [],
   "source": [
    "# Write your code below to find the column mean of X_standardize. \n",
    "\n",
    "col_mean = np.mean(X_standardized, axis = 0)"
   ]
  },
  {
   "cell_type": "code",
   "execution_count": 72,
   "id": "0410b70f-e49a-406d-beae-95940ab37b3c",
   "metadata": {},
   "outputs": [],
   "source": [
    "#Test your code"
   ]
  },
  {
   "cell_type": "code",
   "execution_count": 73,
   "id": "2b67e5a5-c838-44c3-87ef-1a33b5ace53b",
   "metadata": {},
   "outputs": [
    {
     "name": "stdout",
     "output_type": "stream",
     "text": [
      "You are good!\n"
     ]
    }
   ],
   "source": [
    "expected = np.array([2.22044605e-17, 4.38538095e-16, 1.11022302e-16])\n",
    "try:\n",
    "  assert np.allclose(col_mean, expected)\n",
    "  print(\"You are good!\")\n",
    "except:\n",
    "  print(\"Error: Please try again!\")"
   ]
  },
  {
   "cell_type": "code",
   "execution_count": 74,
   "id": "fed81e98-d260-4de0-a4e3-e86b7eb1ad45",
   "metadata": {},
   "outputs": [],
   "source": [
    "# col_mean = np.mean(X_standardized, axis = 0)  #implementing the formula"
   ]
  },
  {
   "cell_type": "code",
   "execution_count": 75,
   "id": "4e02e4e2-5964-47f2-a70b-7ef164210a30",
   "metadata": {},
   "outputs": [
    {
     "data": {
      "text/plain": [
       "array([1., 1., 1.])"
      ]
     },
     "execution_count": 75,
     "metadata": {},
     "output_type": "execute_result"
    }
   ],
   "source": [
    "# Write your code below to find the column standard deviation of X_standardize. Result should be: array([1., 1., 1.])\n",
    "col_std_dev = np.std(X_standardized, axis = 0)\n",
    "col_std_dev"
   ]
  },
  {
   "cell_type": "code",
   "execution_count": 76,
   "id": "be745a13-55f2-4e99-b338-80f1ea70a554",
   "metadata": {},
   "outputs": [
    {
     "name": "stdout",
     "output_type": "stream",
     "text": [
      "You are good!\n"
     ]
    }
   ],
   "source": [
    "#Test your code\n",
    "\n",
    "expected = np.array([1., 1., 1.])\n",
    "try:\n",
    "  assert np.allclose(col_std_dev, expected)\n",
    "  print(\"You are good!\")\n",
    "except:\n",
    "  print(\"Error: Please try again!\")"
   ]
  },
  {
   "cell_type": "code",
   "execution_count": 77,
   "id": "4da23a61-0f65-4f08-8c1a-a0c4a1d4409b",
   "metadata": {},
   "outputs": [],
   "source": [
    "#col_std_dev = np.std(X_standardized, axis = 0) #implementing the formula"
   ]
  },
  {
   "cell_type": "markdown",
   "id": "d252d8ed-cb21-4c06-8421-ca27177bcb7f",
   "metadata": {},
   "source": [
    "Qn 10  Run the following cell"
   ]
  },
  {
   "cell_type": "code",
   "execution_count": 78,
   "id": "4be7027f-5fd4-49ef-b52c-a8ff414032a2",
   "metadata": {},
   "outputs": [
    {
     "name": "stdout",
     "output_type": "stream",
     "text": [
      "x1 = [1 2 3]\n",
      "----------\n",
      "x2 =\n",
      " [[0 1 2]\n",
      " [3 4 5]\n",
      " [6 7 8]]\n"
     ]
    }
   ],
   "source": [
    "x1 = np.array([1, 2, 3])\n",
    "\n",
    "x2 = np.arange(9).reshape((3,3))\n",
    "\n",
    "print('x1 =', x1); print('-'*10); print('x2 =\\n', x2)\n"
   ]
  },
  {
   "cell_type": "markdown",
   "id": "f8c39e94-a8bc-405d-bbce-dc2ded5adaa9",
   "metadata": {},
   "source": [
    "Add array `x1` to each column of array `x2` and print the resulting array."
   ]
  },
  {
   "cell_type": "code",
   "execution_count": 79,
   "id": "29ce5a0d-a588-410b-b92c-fe64fd428790",
   "metadata": {},
   "outputs": [
    {
     "data": {
      "text/plain": [
       "array([[ 1,  2,  3],\n",
       "       [ 5,  6,  7],\n",
       "       [ 9, 10, 11]])"
      ]
     },
     "execution_count": 79,
     "metadata": {},
     "output_type": "execute_result"
    }
   ],
   "source": [
    "a = x1[:, np.newaxis] + x2\n",
    "a"
   ]
  },
  {
   "cell_type": "code",
   "execution_count": 80,
   "id": "aebe1623-4b0f-48bd-b336-7a80b6c90981",
   "metadata": {},
   "outputs": [
    {
     "name": "stdout",
     "output_type": "stream",
     "text": [
      "You are on a roll!\n"
     ]
    }
   ],
   "source": [
    "#Test yor code\n",
    "\n",
    "expected = np.array([[ 1,  2,  3],\n",
    "       [ 5,  6,  7],\n",
    "       [ 9, 10, 11]])\n",
    "try:\n",
    "  assert np.allclose(a, expected)\n",
    "  print(\"You are on a roll!\")\n",
    "except:\n",
    "  print(\"Error: Please try again!\")"
   ]
  },
  {
   "cell_type": "code",
   "execution_count": 81,
   "id": "38cb516a-a99d-4889-915c-3bfffb85693d",
   "metadata": {},
   "outputs": [],
   "source": [
    "# x1[:, np.newaxis] adds a new axis to x1, converting it from a 1D array to a 2D column vector."
   ]
  },
  {
   "cell_type": "markdown",
   "id": "eebf1154-b448-4d27-9e40-24150104500a",
   "metadata": {},
   "source": [
    "Qn 11   Write a NumPy array to extract numbers between 3 and 7 (3 and 7 inclusive) from the following array."
   ]
  },
  {
   "cell_type": "code",
   "execution_count": 82,
   "id": "a2922533-a267-4aef-b190-3c0a6c5050f6",
   "metadata": {},
   "outputs": [
    {
     "name": "stdout",
     "output_type": "stream",
     "text": [
      "x = \n",
      " [[5 0 3]\n",
      " [3 7 9]\n",
      " [3 5 2]]\n"
     ]
    }
   ],
   "source": [
    "np.random.seed(0)\n",
    "x = np.random.randint(0, 10, 9).reshape((3,3))\n",
    "print('x = \\n',x)"
   ]
  },
  {
   "cell_type": "code",
   "execution_count": 83,
   "id": "1dcc6bee-7224-432a-bf06-02b656031317",
   "metadata": {},
   "outputs": [
    {
     "data": {
      "text/plain": [
       "array([5, 3, 3, 7, 3, 5])"
      ]
     },
     "execution_count": 83,
     "metadata": {},
     "output_type": "execute_result"
    }
   ],
   "source": [
    "# Replace None with your code below; Result should be: array([5, 3, 3, 7, 3, 5])\n",
    "a = x[(x >= 3) & (x <= 7)]\n",
    "a"
   ]
  },
  {
   "cell_type": "code",
   "execution_count": 84,
   "id": "62019623-aadf-4d29-8874-c4f66e890dbd",
   "metadata": {},
   "outputs": [
    {
     "name": "stdout",
     "output_type": "stream",
     "text": [
      "You are doing great!\n"
     ]
    }
   ],
   "source": [
    "#Test your code\n",
    "\n",
    "expected = np.array([5, 3, 3, 7, 3, 5])\n",
    "try:\n",
    "  assert np.allclose(a, expected)\n",
    "  print(\"You are doing great!\")\n",
    "except:\n",
    "  print(\"Error: Please try again!\")"
   ]
  },
  {
   "cell_type": "code",
   "execution_count": 85,
   "id": "aed2226d-4b14-4d0a-b6ab-3120d674c7dd",
   "metadata": {},
   "outputs": [],
   "source": [
    "#a = x[(x >= 3) & (x <= 7)]  # Filter 'x' to include only elements between 3 and 7, inclusive.\n"
   ]
  },
  {
   "cell_type": "markdown",
   "id": "24bed37f-3169-4bf2-a2c2-f44d94f46b7b",
   "metadata": {},
   "source": [
    "Replace each of those numbers with 99 in the original array and print the array."
   ]
  },
  {
   "cell_type": "code",
   "execution_count": 86,
   "id": "ce23fa92-553e-49e3-abff-125fce8ea930",
   "metadata": {},
   "outputs": [
    {
     "name": "stdout",
     "output_type": "stream",
     "text": [
      "[[99  0 99]\n",
      " [99 99  9]\n",
      " [99 99  2]]\n"
     ]
    }
   ],
   "source": [
    "# Create the original NumPy array\n",
    "x = np.array([[5, 0, 3],\n",
    "              [3, 7, 9],\n",
    "              [3, 5, 2]])\n",
    "\n",
    "# Replace numbers between 3 and 7 (inclusive) with 99\n",
    "x[(x >= 3) & (x <= 7)] = 99\n",
    "\n",
    "# Print the modified array\n",
    "print(x)"
   ]
  },
  {
   "cell_type": "code",
   "execution_count": 87,
   "id": "6034f32c-fcf7-4329-8cbd-313509b5b202",
   "metadata": {},
   "outputs": [
    {
     "name": "stdout",
     "output_type": "stream",
     "text": [
      "Beautiful!\n"
     ]
    }
   ],
   "source": [
    "# Test your code\n",
    "expected = np.array([[99,  0, 99],\n",
    "       [99, 99,  9],  \n",
    "       [99, 99,  2]])\n",
    "try:\n",
    "  assert np.allclose(x, expected)\n",
    "  print(\"Beautiful!\")\n",
    "except:\n",
    "  print(\"Error: Please try again!\")"
   ]
  },
  {
   "cell_type": "code",
   "execution_count": 88,
   "id": "e7fbdd36-e712-403f-9fdb-5d506d6f4145",
   "metadata": {},
   "outputs": [],
   "source": [
    "# x[(x >= 3) & (x <= 7)] = 99 # Replace numbers between 3 and 7 (inclusive) with 99"
   ]
  },
  {
   "cell_type": "markdown",
   "id": "544e7c1f-1519-483a-ba75-275f13a75482",
   "metadata": {},
   "source": [
    "Qn 12  Write a NumPy code to find the intersection (common elements) between the following arrays (x and y)."
   ]
  },
  {
   "cell_type": "code",
   "execution_count": 89,
   "id": "407efad7-ea06-423c-92ed-ac1ac9798b8f",
   "metadata": {},
   "outputs": [
    {
     "name": "stdout",
     "output_type": "stream",
     "text": [
      "x =\n",
      " [[5 8 9]\n",
      " [5 0 0]\n",
      " [1 7 6]]\n",
      "----------\n",
      "y =\n",
      " [[9 2 4]\n",
      " [5 2 4]\n",
      " [2 4 7]]\n"
     ]
    }
   ],
   "source": [
    "np.random.seed(1)\n",
    "x = np.random.randint(0, 10, 9).reshape((3,3))\n",
    "y = np.random.randint(0, 10, 9).reshape((3,3))\n",
    "print('x =\\n',x); print('-'*10 ); print('y =\\n',y)"
   ]
  },
  {
   "cell_type": "code",
   "execution_count": 90,
   "id": "1a4942b1-f4ec-4177-8f3b-763f210cbbfc",
   "metadata": {},
   "outputs": [
    {
     "data": {
      "text/plain": [
       "array([5, 7, 9])"
      ]
     },
     "execution_count": 90,
     "metadata": {},
     "output_type": "execute_result"
    }
   ],
   "source": [
    "# Find the intersection (common elements) between x and y\n",
    "a = np.intersect1d(x, y)\n",
    "a"
   ]
  },
  {
   "cell_type": "code",
   "execution_count": 91,
   "id": "8ff81f2e-9fd1-4020-8a53-8b3947753018",
   "metadata": {},
   "outputs": [
    {
     "name": "stdout",
     "output_type": "stream",
     "text": [
      "Keep it up!\n"
     ]
    }
   ],
   "source": [
    "#Test your code \n",
    "expected = np.array([5, 7, 9])\n",
    "try:\n",
    "  assert np.allclose(a, expected)\n",
    "  print(\"Keep it up!\")\n",
    "except:\n",
    "  print(\"Error: Please try again!\")"
   ]
  },
  {
   "cell_type": "code",
   "execution_count": 92,
   "id": "ad512062-25f4-470c-a126-908d62e64f61",
   "metadata": {},
   "outputs": [],
   "source": [
    "#a = np.intersect1d(x, y)\n",
    "\n",
    "# Find and return the sorted unique elements that are present in both arrays 'x' and 'y'."
   ]
  },
  {
   "cell_type": "markdown",
   "id": "9ff28245-6d2c-4b27-9533-88d34ff41255",
   "metadata": {},
   "source": [
    "Write a NumPy code to print the unique elements of array x"
   ]
  },
  {
   "cell_type": "code",
   "execution_count": 93,
   "id": "f7a0d1be-c823-4bbf-ab60-425b5ab85e4b",
   "metadata": {},
   "outputs": [
    {
     "data": {
      "text/plain": [
       "array([0, 1, 5, 6, 7, 8, 9])"
      ]
     },
     "execution_count": 93,
     "metadata": {},
     "output_type": "execute_result"
    }
   ],
   "source": [
    "#Result should be: array([0, 1, 5, 6, 7, 8, 9])\n",
    "a = np.unique(x)\n",
    "a"
   ]
  },
  {
   "cell_type": "code",
   "execution_count": 95,
   "id": "edc939bd-c83c-485d-999d-2a761cbb6609",
   "metadata": {},
   "outputs": [
    {
     "name": "stdout",
     "output_type": "stream",
     "text": [
      "You are doing great!\n"
     ]
    }
   ],
   "source": [
    "#Test your code\n",
    "\n",
    "expected = np.array([0, 1, 5, 6, 7, 8, 9])\n",
    "try:\n",
    "  assert np.allclose(a, expected)\n",
    "  print(\"You are doing great!\")\n",
    "except:\n",
    "  print(\"Error: Please try again!\")"
   ]
  },
  {
   "cell_type": "code",
   "execution_count": 96,
   "id": "56627da7-9b65-40dd-9aeb-b7ad0aa64824",
   "metadata": {},
   "outputs": [],
   "source": [
    "#a = np.unique(x)  ## Return the sorted unique elements from the array 'x'.\n"
   ]
  },
  {
   "cell_type": "markdown",
   "id": "d3da9286-c72f-46f1-9f74-3258e34aa367",
   "metadata": {},
   "source": [
    "Qn 13 Run the cell"
   ]
  },
  {
   "cell_type": "code",
   "execution_count": 97,
   "id": "10df0d39-78b8-4600-a7f2-528daa5bece0",
   "metadata": {},
   "outputs": [
    {
     "data": {
      "text/plain": [
       "array([[8, 8, 6],\n",
       "       [2, 8, 7],\n",
       "       [2, 1, 5]])"
      ]
     },
     "execution_count": 97,
     "metadata": {},
     "output_type": "execute_result"
    }
   ],
   "source": [
    "np.random.seed(2)\n",
    "x = np.random.randint(0, 10, 9).reshape((3,3))\n",
    "x"
   ]
  },
  {
   "cell_type": "markdown",
   "id": "2e3ef452-4453-446f-9f09-44a6c0c7f413",
   "metadata": {},
   "source": [
    "Find the *indices* of **max** and **min** of the above array `x` along the **rows**."
   ]
  },
  {
   "cell_type": "code",
   "execution_count": 98,
   "id": "2e9b92c3-da21-422a-afd9-4672f240fca2",
   "metadata": {},
   "outputs": [
    {
     "data": {
      "text/plain": [
       "array([0, 1, 2], dtype=int64)"
      ]
     },
     "execution_count": 98,
     "metadata": {},
     "output_type": "execute_result"
    }
   ],
   "source": [
    "# Replace None with your code for 'indices of max along the rows' below; Result should be: array([0, 1, 2])\n",
    "a = np.argmax(x, axis = 1)\n",
    "a"
   ]
  },
  {
   "cell_type": "code",
   "execution_count": 99,
   "id": "009a1994-7fd2-41ad-808e-f2ea880cac27",
   "metadata": {},
   "outputs": [
    {
     "name": "stdout",
     "output_type": "stream",
     "text": [
      "You are doing great!\n"
     ]
    }
   ],
   "source": [
    "#Test your code\n",
    "\n",
    "expected = np.array([0, 1, 2])\n",
    "try:\n",
    "  assert np.allclose(a, expected)\n",
    "  print(\"You are doing great!\")\n",
    "except:\n",
    "  print(\"Error: Please try again!\")"
   ]
  },
  {
   "cell_type": "code",
   "execution_count": 100,
   "id": "7c9c0674-6000-4133-9175-7ab92a205e60",
   "metadata": {},
   "outputs": [],
   "source": [
    "#np.argmax() is numpy function used to find the index of the largest number in an array,\n",
    "# axis = 1 helps to find the number along rows"
   ]
  },
  {
   "cell_type": "code",
   "execution_count": 101,
   "id": "a550ad8c-2ae7-4db5-adc8-d3928daa6077",
   "metadata": {},
   "outputs": [
    {
     "data": {
      "text/plain": [
       "array([2, 0, 1], dtype=int64)"
      ]
     },
     "execution_count": 101,
     "metadata": {},
     "output_type": "execute_result"
    }
   ],
   "source": [
    "# Replace None with your code for 'indices of min along the rows' below; \n",
    "# Result should be: array([2, 0, 1])\n",
    "a = np.argmin(x, axis = 1)\n",
    "a"
   ]
  },
  {
   "cell_type": "code",
   "execution_count": 103,
   "id": "40df29ba-55eb-41d1-a448-eace7316ed65",
   "metadata": {},
   "outputs": [
    {
     "name": "stdout",
     "output_type": "stream",
     "text": [
      "You are doing great!\n"
     ]
    }
   ],
   "source": [
    "# Test your code\n",
    "\n",
    "expected = np.array([2, 0, 1])\n",
    "try:\n",
    "  assert np.allclose(a, expected)\n",
    "  print(\"You are doing great!\")\n",
    "except:\n",
    "  print(\"Error: Please try again!\")"
   ]
  },
  {
   "cell_type": "code",
   "execution_count": 104,
   "id": "13edf045-d98d-4adf-a299-4af4366f1023",
   "metadata": {},
   "outputs": [],
   "source": [
    "# np.argmin(x, axis=1) is used to find the min value index row wise"
   ]
  },
  {
   "cell_type": "markdown",
   "id": "3442c937-78ed-4265-b3c5-c2a0aa7bb713",
   "metadata": {},
   "source": [
    "Find the indices of **max** and **min** of the above array x along the **columns**."
   ]
  },
  {
   "cell_type": "code",
   "execution_count": 105,
   "id": "ba6d9159-e759-4993-b62d-7ee40e47b328",
   "metadata": {},
   "outputs": [
    {
     "data": {
      "text/plain": [
       "array([0, 0, 1], dtype=int64)"
      ]
     },
     "execution_count": 105,
     "metadata": {},
     "output_type": "execute_result"
    }
   ],
   "source": [
    "# Replace None with your code for 'indices of max along the columns' below; \n",
    "# Result should be: array([0, 0, 1])\n",
    "a = np.argmax(x, axis = 0)\n",
    "a"
   ]
  },
  {
   "cell_type": "code",
   "execution_count": 106,
   "id": "85c8244d-7af1-4638-b382-2088776ebc09",
   "metadata": {},
   "outputs": [
    {
     "name": "stdout",
     "output_type": "stream",
     "text": [
      "You are doing great!\n"
     ]
    }
   ],
   "source": [
    "#Test your code\n",
    "\n",
    "expected = np.array([0, 0, 1])\n",
    "try:\n",
    "  assert np.allclose(a, expected)\n",
    "  print(\"You are doing great!\")\n",
    "except:\n",
    "  print(\"Error: Please try again!\")"
   ]
  },
  {
   "cell_type": "code",
   "execution_count": 107,
   "id": "415d3141-cf38-4b4c-bca5-ac9c01ef5045",
   "metadata": {},
   "outputs": [],
   "source": [
    "# similar to above but axis = 0 is used to find indices along columns"
   ]
  },
  {
   "cell_type": "code",
   "execution_count": 108,
   "id": "81ac7b02-2ddf-49de-aee7-6237e2560ea8",
   "metadata": {},
   "outputs": [
    {
     "data": {
      "text/plain": [
       "array([1, 2, 2], dtype=int64)"
      ]
     },
     "execution_count": 108,
     "metadata": {},
     "output_type": "execute_result"
    }
   ],
   "source": [
    "# Replace None with your code for 'indices of min along the columns' below; \n",
    "# Result should be: array([1, 2, 2])\n",
    "a = np.argmin(x, axis = 0)\n",
    "a"
   ]
  },
  {
   "cell_type": "code",
   "execution_count": 109,
   "id": "230ec432-a9b7-4a88-a1fd-28980c1e0891",
   "metadata": {},
   "outputs": [
    {
     "name": "stdout",
     "output_type": "stream",
     "text": [
      "You are doing great!\n"
     ]
    }
   ],
   "source": [
    "#Test your code\n",
    "\n",
    "expected = np.array([1, 2, 2])\n",
    "try:\n",
    "  assert np.allclose(a, expected)\n",
    "  print(\"You are doing great!\")\n",
    "except:\n",
    "  print(\"Error: Please try again!\")"
   ]
  },
  {
   "cell_type": "code",
   "execution_count": 110,
   "id": "c73f0d97-42c2-43e3-8bf8-0747b794e731",
   "metadata": {},
   "outputs": [],
   "source": [
    "#axis = 0 is used to find indices along columns"
   ]
  },
  {
   "cell_type": "markdown",
   "id": "350bae27-2117-4d22-bdd8-264ffd8a2c27",
   "metadata": {},
   "source": [
    "Qn 14  Write a NumPy program to find the sum of all multiples of 2 **and** 5 between 30 and 100 (both inclusive)."
   ]
  },
  {
   "cell_type": "code",
   "execution_count": 114,
   "id": "4a0558d4-ca80-445a-af4a-cb94efc40649",
   "metadata": {},
   "outputs": [
    {
     "name": "stdout",
     "output_type": "stream",
     "text": [
      "[ 30  40  50  60  70  80  90 100]\n"
     ]
    },
    {
     "data": {
      "text/plain": [
       "520"
      ]
     },
     "execution_count": 114,
     "metadata": {},
     "output_type": "execute_result"
    }
   ],
   "source": [
    "# Replace None with your code below (Result should be = 520)\n",
    "start_num = 30\n",
    "end_num = 101\n",
    "numbers = np.arange(start_num, end_num)\n",
    "multiples_of_2_and_5 = numbers[(numbers % 2 == 0) & (numbers % 5 == 0)]\n",
    "print(multiples_of_2_and_5)\n",
    "a = np.sum(multiples_of_2_and_5)\n",
    "a\n"
   ]
  },
  {
   "cell_type": "code",
   "execution_count": 115,
   "id": "8319227b-2cee-4775-8aed-5dde4d1dffba",
   "metadata": {},
   "outputs": [
    {
     "name": "stdout",
     "output_type": "stream",
     "text": [
      "You are doing great!\n"
     ]
    }
   ],
   "source": [
    "#Test your code\n",
    "\n",
    "expected = 520\n",
    "try:\n",
    "  assert a == expected\n",
    "  print(\"You are doing great!\")\n",
    "except:\n",
    "  print(\"Error: Please try again!\")"
   ]
  },
  {
   "cell_type": "code",
   "execution_count": 116,
   "id": "9cd643bf-3943-4940-98ee-96b9f43ed5ea",
   "metadata": {},
   "outputs": [],
   "source": [
    "# multiples_of_2_and_5 = numbers[(numbers % 2 == 0) & (numbers % 5 == 0)]\n",
    "\n",
    "# the above code is used to define the given condition and create an array\n",
    "\n",
    "# we then use numpys sum function to calculate the sum of the elements"
   ]
  },
  {
   "cell_type": "markdown",
   "id": "aa8913b5-e934-49fb-b215-32025a225d18",
   "metadata": {},
   "source": [
    "Write a NumPy program to find the sum of all multiples of 3 **or** 5 between 50 and 100 (both inclusive)."
   ]
  },
  {
   "cell_type": "code",
   "execution_count": 119,
   "id": "1d20d5ed-1f04-44f8-9e1b-eb8b638a80ba",
   "metadata": {},
   "outputs": [
    {
     "name": "stdout",
     "output_type": "stream",
     "text": [
      "[ 50  51  54  55  57  60  63  65  66  69  70  72  75  78  80  81  84  85\n",
      "  87  90  93  95  96  99 100]\n"
     ]
    },
    {
     "data": {
      "text/plain": [
       "1875"
      ]
     },
     "execution_count": 119,
     "metadata": {},
     "output_type": "execute_result"
    }
   ],
   "source": [
    "start_num = 50\n",
    "end_num = 101\n",
    "numbers = np.arange(start_num, end_num)\n",
    "multiples_of_3_or_5 = numbers[(numbers % 3 ==0) | (numbers % 5 ==0)]\n",
    "print(multiples_of_3_or_5)\n",
    "a = np.sum(multiples_of_3_or_5)\n",
    "a"
   ]
  },
  {
   "cell_type": "code",
   "execution_count": 120,
   "id": "f860b571-76c8-4140-a80c-119f90661f3f",
   "metadata": {},
   "outputs": [
    {
     "name": "stdout",
     "output_type": "stream",
     "text": [
      "You are doing great!\n"
     ]
    }
   ],
   "source": [
    "#test your code\n",
    "\n",
    "expected = 1875\n",
    "try:\n",
    "  assert a == expected\n",
    "  print(\"You are doing great!\")\n",
    "except:\n",
    "  print(\"Error: Please try again!\")"
   ]
  },
  {
   "cell_type": "code",
   "execution_count": 121,
   "id": "f4ca1653-ed59-4d05-88c2-97a93afb5cbf",
   "metadata": {},
   "outputs": [],
   "source": [
    "# using or (|) for the condition other same as above"
   ]
  },
  {
   "cell_type": "markdown",
   "id": "989e11da-b6ed-471b-9a75-6f3aebc85e26",
   "metadata": {},
   "source": [
    "Qn 15 Write a NumPy array to get an array of squares plus 1 of integers from 1 to 49.\n",
    "The first element is (1 squared + 1), the second element is (2 squared + 1), the third element is (3 squared + 1) and so on."
   ]
  },
  {
   "cell_type": "code",
   "execution_count": 122,
   "id": "f3b0d542-5fc1-4bfc-b95d-f17007d65583",
   "metadata": {},
   "outputs": [
    {
     "data": {
      "text/plain": [
       "array([   2,    5,   10,   17,   26,   37,   50,   65,   82,  101,  122,\n",
       "        145,  170,  197,  226,  257,  290,  325,  362,  401,  442,  485,\n",
       "        530,  577,  626,  677,  730,  785,  842,  901,  962, 1025, 1090,\n",
       "       1157, 1226, 1297, 1370, 1445, 1522, 1601, 1682, 1765, 1850, 1937,\n",
       "       2026, 2117, 2210, 2305, 2402])"
      ]
     },
     "execution_count": 122,
     "metadata": {},
     "output_type": "execute_result"
    }
   ],
   "source": [
    "a = np.arange(1,50) ** 2 + 1\n",
    "a"
   ]
  },
  {
   "cell_type": "code",
   "execution_count": 123,
   "id": "e5b2dfb3-4945-4c3b-9a44-7ffe43ef6a7c",
   "metadata": {},
   "outputs": [
    {
     "name": "stdout",
     "output_type": "stream",
     "text": [
      "You are doing great!\n"
     ]
    }
   ],
   "source": [
    "#Test your code\n",
    "\n",
    "\n",
    "expected = np.array([   2,    5,   10,   17,   26,   37,   50,   65,   82,  101,  122,\n",
    "        145,  170,  197,  226,  257,  290,  325,  362,  401,  442,  485,\n",
    "        530,  577,  626,  677,  730,  785,  842,  901,  962, 1025, 1090,\n",
    "       1157, 1226, 1297, 1370, 1445, 1522, 1601, 1682, 1765, 1850, 1937,\n",
    "       2026, 2117, 2210, 2305, 2402])\n",
    "try:\n",
    "  assert np.allclose(a, expected)\n",
    "  print(\"You are doing great!\")\n",
    "except:\n",
    "  print(\"Error: Please try again!\")"
   ]
  },
  {
   "cell_type": "code",
   "execution_count": 124,
   "id": "b3eb77d8-3899-443a-ab4a-f47ada97c4e1",
   "metadata": {},
   "outputs": [],
   "source": [
    "# ** acts as power of the elements of array"
   ]
  },
  {
   "cell_type": "markdown",
   "id": "a631ffad-735d-4d5d-8762-373fb1050838",
   "metadata": {},
   "source": [
    "Qn 16 Write a NumPy program to add an extra column to a 2 dimensional array."
   ]
  },
  {
   "cell_type": "code",
   "execution_count": 125,
   "id": "331bfbd4-86a1-4ac4-8b7d-40a4d0aa5cb9",
   "metadata": {},
   "outputs": [
    {
     "name": "stdout",
     "output_type": "stream",
     "text": [
      "x =\n",
      " [[0.5488135  0.71518937]\n",
      " [0.60276338 0.54488318]\n",
      " [0.4236548  0.64589411]\n",
      " [0.43758721 0.891773  ]]\n",
      "--------------------\n",
      "y =\n",
      " [0 1 2 3]\n"
     ]
    }
   ],
   "source": [
    "np.random.seed(0)\n",
    "x = np.random.random((4,2))\n",
    "print('x =\\n', x)\n",
    "print('-'*20)\n",
    "y = np.arange(4)\n",
    "print('y =\\n', y)"
   ]
  },
  {
   "cell_type": "markdown",
   "id": "978d61cb-0e30-4abd-bcb4-57d681175b7e",
   "metadata": {},
   "source": [
    "Add the values of array `y` as a column to the array `x`. "
   ]
  },
  {
   "cell_type": "code",
   "execution_count": 126,
   "id": "912a9e5e-80be-4731-8ad2-848374410fe5",
   "metadata": {},
   "outputs": [
    {
     "data": {
      "text/plain": [
       "array([[0.5488135 , 0.71518937, 0.        ],\n",
       "       [0.60276338, 0.54488318, 1.        ],\n",
       "       [0.4236548 , 0.64589411, 2.        ],\n",
       "       [0.43758721, 0.891773  , 3.        ]])"
      ]
     },
     "execution_count": 126,
     "metadata": {},
     "output_type": "execute_result"
    }
   ],
   "source": [
    "y = y.reshape(4,1)\n",
    "a = np.hstack([x,y])\n",
    "a"
   ]
  },
  {
   "cell_type": "code",
   "execution_count": 127,
   "id": "9051dd21-48cd-4d44-b095-6c3d31e86423",
   "metadata": {},
   "outputs": [
    {
     "name": "stdout",
     "output_type": "stream",
     "text": [
      "You are doing great!\n"
     ]
    }
   ],
   "source": [
    "#Test yor code\n",
    "\n",
    "\n",
    "expected = np.array([[0.5488135 , 0.71518937, 0.        ],\n",
    "       [0.60276338, 0.54488318, 1.        ],\n",
    "       [0.4236548 , 0.64589411, 2.        ],\n",
    "       [0.43758721, 0.891773  , 3.        ]])\n",
    "try:\n",
    "  assert np.allclose(a, expected)\n",
    "  print(\"You are doing great!\")\n",
    "except:\n",
    "  print(\"Error: Please try again!\")"
   ]
  },
  {
   "cell_type": "code",
   "execution_count": 128,
   "id": "93d448af-08cf-4661-b397-dc2fcb4f04f8",
   "metadata": {},
   "outputs": [],
   "source": [
    "# first we changed the shape of matrix y to make similar to x\n",
    "# then we used hstack method to concatenate the value of y to x in horizontal manner"
   ]
  },
  {
   "cell_type": "markdown",
   "id": "33bec279-2808-4ec6-be07-07a7217c1047",
   "metadata": {},
   "source": [
    "Qn 17 Split the following array row-wise into 3 arrays of equal size."
   ]
  },
  {
   "cell_type": "code",
   "execution_count": 130,
   "id": "c5c4a23c-3cc9-433d-ab1b-f0a403f7ac6b",
   "metadata": {},
   "outputs": [
    {
     "name": "stdout",
     "output_type": "stream",
     "text": [
      "x =\n",
      " [[1 9 6]\n",
      " [5 4 3]\n",
      " [5 2 9]\n",
      " [8 6 5]\n",
      " [6 4 5]\n",
      " [0 5 4]\n",
      " [3 3 5]\n",
      " [5 8 8]\n",
      " [4 8 4]]\n"
     ]
    }
   ],
   "source": [
    "np.random.seed(34)\n",
    "x = np.random.randint(0, 10, (9,3))\n",
    "print('x =\\n', x)"
   ]
  },
  {
   "cell_type": "code",
   "execution_count": 131,
   "id": "018ab899-cfcd-4651-a172-f2ce31998b4f",
   "metadata": {},
   "outputs": [
    {
     "data": {
      "text/plain": [
       "\u001b[1;31mSignature:\u001b[0m       \u001b[0mnp\u001b[0m\u001b[1;33m.\u001b[0m\u001b[0mhsplit\u001b[0m\u001b[1;33m(\u001b[0m\u001b[0mary\u001b[0m\u001b[1;33m,\u001b[0m \u001b[0mindices_or_sections\u001b[0m\u001b[1;33m)\u001b[0m\u001b[1;33m\u001b[0m\u001b[1;33m\u001b[0m\u001b[0m\n",
       "\u001b[1;31mCall signature:\u001b[0m  \u001b[0mnp\u001b[0m\u001b[1;33m.\u001b[0m\u001b[0mhsplit\u001b[0m\u001b[1;33m(\u001b[0m\u001b[1;33m*\u001b[0m\u001b[0margs\u001b[0m\u001b[1;33m,\u001b[0m \u001b[1;33m**\u001b[0m\u001b[0mkwargs\u001b[0m\u001b[1;33m)\u001b[0m\u001b[1;33m\u001b[0m\u001b[1;33m\u001b[0m\u001b[0m\n",
       "\u001b[1;31mType:\u001b[0m            _ArrayFunctionDispatcher\n",
       "\u001b[1;31mString form:\u001b[0m     <function hsplit at 0x000001E979618D60>\n",
       "\u001b[1;31mFile:\u001b[0m            c:\\users\\hp\\anaconda3\\lib\\site-packages\\numpy\\lib\\shape_base.py\n",
       "\u001b[1;31mDocstring:\u001b[0m      \n",
       "Split an array into multiple sub-arrays horizontally (column-wise).\n",
       "\n",
       "Please refer to the `split` documentation.  `hsplit` is equivalent\n",
       "to `split` with ``axis=1``, the array is always split along the second\n",
       "axis except for 1-D arrays, where it is split at ``axis=0``.\n",
       "\n",
       "See Also\n",
       "--------\n",
       "split : Split an array into multiple sub-arrays of equal size.\n",
       "\n",
       "Examples\n",
       "--------\n",
       ">>> x = np.arange(16.0).reshape(4, 4)\n",
       ">>> x\n",
       "array([[ 0.,   1.,   2.,   3.],\n",
       "       [ 4.,   5.,   6.,   7.],\n",
       "       [ 8.,   9.,  10.,  11.],\n",
       "       [12.,  13.,  14.,  15.]])\n",
       ">>> np.hsplit(x, 2)\n",
       "[array([[  0.,   1.],\n",
       "       [  4.,   5.],\n",
       "       [  8.,   9.],\n",
       "       [12.,  13.]]),\n",
       " array([[  2.,   3.],\n",
       "       [  6.,   7.],\n",
       "       [10.,  11.],\n",
       "       [14.,  15.]])]\n",
       ">>> np.hsplit(x, np.array([3, 6]))\n",
       "[array([[ 0.,   1.,   2.],\n",
       "       [ 4.,   5.,   6.],\n",
       "       [ 8.,   9.,  10.],\n",
       "       [12.,  13.,  14.]]),\n",
       " array([[ 3.],\n",
       "       [ 7.],\n",
       "       [11.],\n",
       "       [15.]]),\n",
       " array([], shape=(4, 0), dtype=float64)]\n",
       "\n",
       "With a higher dimensional array the split is still along the second axis.\n",
       "\n",
       ">>> x = np.arange(8.0).reshape(2, 2, 2)\n",
       ">>> x\n",
       "array([[[0.,  1.],\n",
       "        [2.,  3.]],\n",
       "       [[4.,  5.],\n",
       "        [6.,  7.]]])\n",
       ">>> np.hsplit(x, 2)\n",
       "[array([[[0.,  1.]],\n",
       "       [[4.,  5.]]]),\n",
       " array([[[2.,  3.]],\n",
       "       [[6.,  7.]]])]\n",
       "\n",
       "With a 1-D array, the split is along axis 0.\n",
       "\n",
       ">>> x = np.array([0, 1, 2, 3, 4, 5])\n",
       ">>> np.hsplit(x, 2)\n",
       "[array([0, 1, 2]), array([3, 4, 5])]\n",
       "\u001b[1;31mClass docstring:\u001b[0m\n",
       "Class to wrap functions with checks for __array_function__ overrides.\n",
       "\n",
       "All arguments are required, and can only be passed by position.\n",
       "\n",
       "Parameters\n",
       "----------\n",
       "dispatcher : function or None\n",
       "    The dispatcher function that returns a single sequence-like object\n",
       "    of all arguments relevant.  It must have the same signature (except\n",
       "    the default values) as the actual implementation.\n",
       "    If ``None``, this is a ``like=`` dispatcher and the\n",
       "    ``_ArrayFunctionDispatcher`` must be called with ``like`` as the\n",
       "    first (additional and positional) argument.\n",
       "implementation : function\n",
       "    Function that implements the operation on NumPy arrays without\n",
       "    overrides.  Arguments passed calling the ``_ArrayFunctionDispatcher``\n",
       "    will be forwarded to this (and the ``dispatcher``) as if using\n",
       "    ``*args, **kwargs``.\n",
       "\n",
       "Attributes\n",
       "----------\n",
       "_implementation : function\n",
       "    The original implementation passed in."
      ]
     },
     "metadata": {},
     "output_type": "display_data"
    }
   ],
   "source": [
    "np.hsplit?"
   ]
  },
  {
   "cell_type": "code",
   "execution_count": 132,
   "id": "201610e0-eeb8-4e76-9adb-3dd3e497a137",
   "metadata": {},
   "outputs": [
    {
     "data": {
      "text/plain": [
       "(array([[1, 9, 6],\n",
       "        [5, 4, 3],\n",
       "        [5, 2, 9]]),\n",
       " array([[8, 6, 5],\n",
       "        [6, 4, 5],\n",
       "        [0, 5, 4]]),\n",
       " array([[3, 3, 5],\n",
       "        [5, 8, 8],\n",
       "        [4, 8, 4]]))"
      ]
     },
     "execution_count": 132,
     "metadata": {},
     "output_type": "execute_result"
    }
   ],
   "source": [
    "# Replace (None, None, None) with your code below\n",
    "a1, a2, a3 = np.vsplit(x, 3)\n",
    "a1,a2,a3"
   ]
  },
  {
   "cell_type": "code",
   "execution_count": 133,
   "id": "8aed6be2-d695-4431-b6e0-0a17612b8dad",
   "metadata": {},
   "outputs": [
    {
     "name": "stdout",
     "output_type": "stream",
     "text": [
      "You are doing great!\n"
     ]
    }
   ],
   "source": [
    "#Test your code\n",
    "\n",
    "expected1 = np.array([[1, 9, 6],\n",
    " [5, 4, 3],\n",
    " [5, 2, 9]])\n",
    "expected2 = np.array([[8, 6, 5],\n",
    " [6, 4, 5],\n",
    " [0, 5, 4]])\n",
    "expected3 = np.array([[3, 3, 5],\n",
    " [5, 8, 8],\n",
    " [4, 8, 4]])\n",
    "try:\n",
    "  assert np.allclose(a1, expected1)\n",
    "  assert np.allclose(a2, expected2)\n",
    "  assert np.allclose(a3, expected3)\n",
    "  print(\"You are doing great!\")\n",
    "except:\n",
    "  print(\"Error: Please try again!\")"
   ]
  },
  {
   "cell_type": "code",
   "execution_count": 134,
   "id": "b487d8da-b8c8-4b00-8533-2894b7bf3b81",
   "metadata": {},
   "outputs": [],
   "source": [
    "# np.vsplit is a numpy method that is used to split the elements of array vertical wise"
   ]
  },
  {
   "cell_type": "markdown",
   "id": "a4f80bc2-4f68-4d3a-9110-5e9af40dd2c5",
   "metadata": {},
   "source": [
    "Qn 18 Decorators\n",
    "Write a decorator for the square root function, so that it returns the following message if it is called with a negative number.\n",
    "\n",
    "\"Please enter a positive number. Can't find the square root of a negative number\""
   ]
  },
  {
   "cell_type": "code",
   "execution_count": 8,
   "id": "265f3253-f1d3-4ead-b1be-2c12f4b7a586",
   "metadata": {},
   "outputs": [],
   "source": [
    "def square_root_decorator(func):\n",
    "   def wrapper(x):\n",
    "        if x < 0:\n",
    "            return \"Please enter a positive number. Can't find the square root of a negative number\"\n",
    "        else:\n",
    "            return func(x)\n",
    "        return wrapper"
   ]
  },
  {
   "cell_type": "code",
   "execution_count": 15,
   "id": "57b3d35e-5c17-40b2-86d1-2e2534783a89",
   "metadata": {},
   "outputs": [],
   "source": [
    "# Decorator to validate input for calculating square root, ensuring it's non-negative."
   ]
  },
  {
   "cell_type": "code",
   "execution_count": 16,
   "id": "e35b46b0-ce55-48b9-a8ba-da0836aeb0ce",
   "metadata": {},
   "outputs": [],
   "source": [
    "from math import sqrt \n",
    "\n",
    "@square_root_decorator\n",
    "def sqrt_finder(x):\n",
    "  return sqrt(x)"
   ]
  },
  {
   "cell_type": "code",
   "execution_count": 17,
   "id": "4c5da407-ba30-4382-a545-1d4e76628c6f",
   "metadata": {},
   "outputs": [
    {
     "data": {
      "text/plain": [
       "\"Please enter a positive number. Can't find the square root of a negative number\""
      ]
     },
     "execution_count": 17,
     "metadata": {},
     "output_type": "execute_result"
    }
   ],
   "source": [
    "sqrt_finder(-2)"
   ]
  },
  {
   "cell_type": "code",
   "execution_count": 18,
   "id": "c4300af8-219f-482f-bc0a-b886447fcaaf",
   "metadata": {},
   "outputs": [
    {
     "name": "stdout",
     "output_type": "stream",
     "text": [
      "Square root of 16: 4.0\n",
      "Please enter a positive number. Can't find the square root of a negative number\n"
     ]
    }
   ],
   "source": [
    "import math\n",
    "\n",
    "def square_root_decorator(func):\n",
    "    def wrapper(x):\n",
    "        if x < 0:\n",
    "            return \"Please enter a positive number. Can't find the square root of a negative number\"\n",
    "        else:\n",
    "            return func(x)\n",
    "    return wrapper\n",
    "\n",
    "# Decorate the math.sqrt function\n",
    "math.sqrt = square_root_decorator(math.sqrt)\n",
    "\n",
    "# Define a function that uses the decorated math.sqrt\n",
    "def sqrt_finder(x):\n",
    "    return math.sqrt(x)\n",
    "\n",
    "# Test the decorated square root function\n",
    "result1 = sqrt_finder(16)\n",
    "print(\"Square root of 16:\", result1)  # Output: 4.0\n",
    "\n",
    "result2 = sqrt_finder(-9)\n",
    "print(result2)  # Output: Please enter a positive number. Can't find the square root of a negative number\n"
   ]
  },
  {
   "cell_type": "code",
   "execution_count": null,
   "id": "a8aa6aad-26d5-4a1e-899f-368c1e5f5e95",
   "metadata": {},
   "outputs": [],
   "source": []
  }
 ],
 "metadata": {
  "kernelspec": {
   "display_name": "Python 3 (ipykernel)",
   "language": "python",
   "name": "python3"
  },
  "language_info": {
   "codemirror_mode": {
    "name": "ipython",
    "version": 3
   },
   "file_extension": ".py",
   "mimetype": "text/x-python",
   "name": "python",
   "nbconvert_exporter": "python",
   "pygments_lexer": "ipython3",
   "version": "3.12.4"
  }
 },
 "nbformat": 4,
 "nbformat_minor": 5
}
